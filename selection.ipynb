{
  "cells": [
    {
      "cell_type": "code",
      "execution_count": null,
      "metadata": {
        "colab": {
          "base_uri": "https://localhost:8080/"
        },
        "id": "EhvSbHqNW480",
        "outputId": "fc1b9d11-5855-4456-f0ec-1087c82ebf60"
      },
      "outputs": [
        {
          "name": "stdout",
          "output_type": "stream",
          "text": [
            "grade A\n"
          ]
        }
      ],
      "source": [
        "#fungsi if(Khulika Malkan)\n",
        "\n",
        "\n",
        "nilai = 91\n",
        "if nilai >= 90:\n",
        "  print(\"grade A\")"
      ]
    },
    {
      "cell_type": "code",
      "execution_count": null,
      "metadata": {
        "id": "QPan1mT3EMYf"
      },
      "outputs": [],
      "source": []
    },
    {
      "cell_type": "code",
      "execution_count": null,
      "metadata": {
        "colab": {
          "base_uri": "https://localhost:8080/"
        },
        "id": "x9Wa66M3Y33F",
        "outputId": "755a949b-35cd-41da-9662-0c46793e0851"
      },
      "outputs": [
        {
          "name": "stdout",
          "output_type": "stream",
          "text": [
            "grade B\n"
          ]
        }
      ],
      "source": [
        "#fungsi if else(Khulika Malkan)\n",
        "\n",
        "nilai = 71\n",
        "if nilai >= 90:\n",
        "  print(\"grade A\")\n",
        "else :\n",
        "    print(\"grade B\")"
      ]
    },
    {
      "cell_type": "code",
      "execution_count": null,
      "metadata": {
        "colab": {
          "base_uri": "https://localhost:8080/"
        },
        "id": "OMyqydRaZd15",
        "outputId": "e7b6a3e3-9cfe-40cd-dd0d-75d6b3cf608d"
      },
      "outputs": [
        {
          "name": "stdout",
          "output_type": "stream",
          "text": [
            "grade c\n"
          ]
        }
      ],
      "source": [
        "##fungsi if elif statment(Khulika Malkan)\n",
        "\n",
        "nilai = 61\n",
        "if nilai >= 90:\n",
        "  print(\"grade A\")\n",
        "elif nilai >= 70:\n",
        "  print(\"grade B\")\n",
        "elif nilai >= 60:\n",
        "  print(\"grade c\")\n"
      ]
    },
    {
      "cell_type": "code",
      "execution_count": null,
      "metadata": {
        "colab": {
          "base_uri": "https://localhost:8080/"
        },
        "id": "OkbKCPfZasn2",
        "outputId": "73f0f018-defe-46c4-e5b7-2b65dfb094ba"
      },
      "outputs": [
        {
          "name": "stdout",
          "output_type": "stream",
          "text": [
            "grade D\n"
          ]
        }
      ],
      "source": [
        "##latihan if elif else STATMENT(Khulika Malkan)\n",
        "\n",
        "nilai = 51\n",
        "if nilai >= 90:\n",
        "  print(\"grade A\")\n",
        "elif nilai >= 70:\n",
        "  print(\"grade B\")\n",
        "elif nilai >= 60:\n",
        "  print(\"grade C\")\n",
        "else:\n",
        "  print(\"grade D\")"
      ]
    },
    {
      "cell_type": "code",
      "execution_count": null,
      "metadata": {
        "colab": {
          "base_uri": "https://localhost:8080/"
        },
        "id": "w9Xj_M4-bUOI",
        "outputId": "cdf72eaf-c364-41ba-b759-2e068cd7c5db"
      },
      "outputs": [
        {
          "name": "stdout",
          "output_type": "stream",
          "text": [
            "tiket tersedia\n",
            "harga tiket 50.000\n"
          ]
        }
      ],
      "source": [
        "#nested if statment/if bersarang(Khulika Malkan)\n",
        "\n",
        "umur = 38\n",
        "if umur >= 11:\n",
        "  print(\"tiket tersedia\")\n",
        "  if umur <=  18 or umur >=60:\n",
        "    print(\"harga tiket 35.000\")\n",
        "  else:\n",
        "    print(\"harga tiket 50.000\")\n",
        "else:\n",
        "    print(\"tiket tidak tersedia\")"
      ]
    },
    {
      "cell_type": "code",
      "execution_count": null,
      "metadata": {
        "colab": {
          "base_uri": "https://localhost:8080/"
        },
        "id": "GHpu4LEDewij",
        "outputId": "99bfb919-480d-44c5-fd94-43551710f7b6"
      },
      "outputs": [
        {
          "name": "stdout",
          "output_type": "stream",
          "text": [
            "masukan umur anda: 12\n",
            "anda masih bocil\n"
          ]
        }
      ],
      "source": [
        "##latihan\n",
        "\n",
        "umur = int(input(\"masukan umur anda: \"))\n",
        "if umur >= 11:\n",
        "  if umur > 18:\n",
        "    print(\"tiket tersedia\")\n",
        "    if umur <=  20 or umur >=60:\n",
        "      print(\"harga tiket 35.000\")\n",
        "    else:\n",
        "      print(\"harga tiket 50.000\")\n",
        "  else :\n",
        "    print(\"anda masih bocil\")\n",
        "else:\n",
        "    print(\"tiket tidak tersedia\")"
      ]
    },
    {
      "cell_type": "code",
      "execution_count": null,
      "metadata": {
        "colab": {
          "base_uri": "https://localhost:8080/"
        },
        "id": "XtcywLhDdAtE",
        "outputId": "85bf6d81-3640-4748-c713-b59a9f2210f7"
      },
      "outputs": [
        {
          "name": "stdout",
          "output_type": "stream",
          "text": [
            "masukan bilangan :3\n",
            "bilangan positif\n"
          ]
        }
      ],
      "source": [
        "##latihan 6\n",
        "\n",
        "bilangan= int(input(\"masukan bilangan :\"))\n",
        "\n",
        "if bilangan < 0:\n",
        "  print(\"bilangan negatif\")\n",
        "elif bilangan == 0:\n",
        "  print(\"bilangan nol\")\n",
        "else:\n",
        "  print(\"bilangan positif\")"
      ]
    },
    {
      "cell_type": "code",
      "execution_count": null,
      "metadata": {
        "colab": {
          "base_uri": "https://localhost:8080/"
        },
        "id": "TdkhA3AqibsU",
        "outputId": "131adc6a-8401-4d38-eccc-78087001db4d"
      },
      "outputs": [
        {
          "name": "stdout",
          "output_type": "stream",
          "text": [
            "bilangan x adalah terbesar : 4\n",
            "bilangan y adalah terbesar : 6\n",
            "bilangan terbesar adalah y :  6\n"
          ]
        }
      ],
      "source": [
        "##latihan 7\n",
        "x = int(input(\"bilangan x adalah terbesar : \"))\n",
        "y = int(input(\"bilangan y adalah terbesar : \"))\n",
        "\n",
        "if x > y:\n",
        "  print(\"bilangan terbesar adalah x : \",x)\n",
        "else:\n",
        "  print(\"bilangan terbesar adalah y : \", y)"
      ]
    },
    {
      "cell_type": "code",
      "execution_count": null,
      "metadata": {
        "id": "ydm0a928jvIs"
      },
      "outputs": [],
      "source": [
        "x = int(input(\"bilangan x adalah terbesar : \"))\n",
        "y = int(input(\"bilangan y adalah terbesar : \"))\n",
        "\n",
        "if x > y:\n",
        "  print(\"bilangan terbesar adalah x : \",x)\n",
        "else:\n",
        "  print(\"bilangan terbesar adalah y : \", y)"
      ]
    },
    {
      "cell_type": "code",
      "execution_count": null,
      "metadata": {
        "colab": {
          "base_uri": "https://localhost:8080/"
        },
        "id": "zRqi8jeFj7df",
        "outputId": "2bc840c5-1267-4b5e-f236-2d8e855527d5"
      },
      "outputs": [
        {
          "name": "stdout",
          "output_type": "stream",
          "text": [
            "Masukkan bilangan x anda sayang : 2\n",
            "Masukkan bilangan y anda sayangkyu cintakyu: 5\n",
            "bilangan 5 terbesar\n"
          ]
        }
      ],
      "source": [
        "x = int(input (\"Masukkan bilangan x anda sayang : \"))\n",
        "y = int(input (\"Masukkan bilangan y anda sayangkyu cintakyu: \"))\n",
        "\n",
        "if x > y :\n",
        "  print (\"Bilangan \", x , \"Terbesar\")\n",
        "else :\n",
        "  print(\"bilangan\",y, \"terbesar\")"
      ]
    },
    {
      "cell_type": "code",
      "execution_count": null,
      "metadata": {
        "colab": {
          "base_uri": "https://localhost:8080/"
        },
        "id": "j56Dp7zJkw2a",
        "outputId": "3d211ca6-e614-4c25-f62c-1287620bb636"
      },
      "outputs": [
        {
          "name": "stdout",
          "output_type": "stream",
          "text": [
            "masukan nilai x : 4\n",
            "masukan nilai y : 5\n",
            "bilangan y=5 terbesar\n"
          ]
        }
      ],
      "source": [
        "x = int(input(\"masukan nilai x : \"))\n",
        "y = int(input(\"masukan nilai y : \"))\n",
        "\n",
        "if x > y :\n",
        "  print(f\"bilangan x={x} terbesar\")\n",
        "else :\n",
        "  print(f\"bilangan y={y} terbesar\")"
      ]
    },
    {
      "cell_type": "code",
      "execution_count": null,
      "metadata": {
        "id": "uyoOAgxAHEuM",
        "colab": {
          "base_uri": "https://localhost:8080/"
        },
        "outputId": "61bf4939-5654-4bf6-9240-6dc2b1373db1"
      },
      "outputs": [
        {
          "output_type": "stream",
          "name": "stdout",
          "text": [
            "masukan nilai anda: 55\n",
            "grade D\n"
          ]
        }
      ],
      "source": [
        "#tugas no 1 (Khulika Malkan)\n",
        "#seleksi.py:\n",
        "\n",
        "nilai = int(input(\"masukan nilai anda: \"))\n",
        "if nilai >= 90:\n",
        "  print(\"grade A\")\n",
        "elif nilai >= 70:\n",
        "  print(\"grade B\")\n",
        "elif nilai >= 60:\n",
        "  print(\"grade C\")\n",
        "elif nilai >= 50:\n",
        "  print(\"grade D\")\n",
        "elif nilai < 50 :\n",
        "  print(\"grade E\")\n",
        "else:\n",
        "    print(\"grade D\")"
      ]
    },
    {
      "cell_type": "code",
      "execution_count": null,
      "metadata": {
        "id": "lpY_edVsLKjB",
        "colab": {
          "base_uri": "https://localhost:8080/"
        },
        "outputId": "62265186-0b32-493a-86ea-8ced43e12426"
      },
      "outputs": [
        {
          "output_type": "stream",
          "name": "stdout",
          "text": [
            "masukan umur anda: 45\n",
            "dewasa\n"
          ]
        }
      ],
      "source": [
        "#tugas no 2 (Khulika Malkan)\n",
        "#tebak_umur.py:\n",
        "\n",
        "umur = int(input(\"masukan umur anda: \"))\n",
        "if umur <= 5:\n",
        "  print(\"balita\")\n",
        "elif umur <=12 :\n",
        "  print(\"anak anak\")\n",
        "elif umur <= 18:\n",
        "  print(\"remaja\")\n",
        "else:\n",
        "    print(\"dewasa\")"
      ]
    },
    {
      "cell_type": "code",
      "source": [
        "umur = int(input(\"masukan umur anda: \"))\n",
        "if umur > 5:\n",
        "  print(\"anak anak\")\n",
        "  if umur > 5 or umur <= 18:\n",
        "    print(\"remaja\")\n",
        "  else:\n",
        "    print(\"dewasa\")\n",
        "else:\n",
        "    print(\"balita\")"
      ],
      "metadata": {
        "id": "t-z0squZtTND",
        "outputId": "2e36db1d-eb42-4910-bc43-dec0abd6dfbf",
        "colab": {
          "base_uri": "https://localhost:8080/"
        }
      },
      "execution_count": null,
      "outputs": [
        {
          "output_type": "stream",
          "name": "stdout",
          "text": [
            "masukan umur anda: 11\n",
            "anak anak\n",
            "remaja\n"
          ]
        }
      ]
    }
  ],
  "metadata": {
    "colab": {
      "provenance": []
    },
    "kernelspec": {
      "display_name": "Python 3",
      "name": "python3"
    },
    "language_info": {
      "name": "python"
    }
  },
  "nbformat": 4,
  "nbformat_minor": 0
}