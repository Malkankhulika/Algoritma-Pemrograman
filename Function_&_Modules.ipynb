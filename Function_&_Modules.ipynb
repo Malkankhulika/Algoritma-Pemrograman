{
  "nbformat": 4,
  "nbformat_minor": 0,
  "metadata": {
    "colab": {
      "provenance": []
    },
    "kernelspec": {
      "name": "python3",
      "display_name": "Python 3"
    },
    "language_info": {
      "name": "python"
    }
  },
  "cells": [
    {
      "cell_type": "code",
      "execution_count": null,
      "metadata": {
        "colab": {
          "base_uri": "https://localhost:8080/"
        },
        "id": "TIvBpqbwaknT",
        "outputId": "34ba0b20-4a88-4312-dc80-69e43fd1d03c"
      },
      "outputs": [
        {
          "output_type": "stream",
          "name": "stdout",
          "text": [
            "IT Telkom PUrwokerto\n"
          ]
        }
      ],
      "source": [
        "# membuat fungsi sederhana\n",
        "def kampus():\n",
        "  print(\"IT Telkom PUrwokerto\")\n",
        "\n",
        "kampus()\n",
        "\n",
        "# tidak efektif karena ber tele-tele seharusnya langsung saja variabel"
      ]
    },
    {
      "cell_type": "code",
      "source": [
        "# membuat fungsi yang mengembalikan nilai\n",
        "def perhitungan():\n",
        "  angka_1 = int(input(\"masukan angka 1 : \"))\n",
        "  angka_2 = int(input(\"masukan angka 2 : \"))\n",
        "  penjumlahan = angka_1 + angka_2\n",
        "  return penjumlahan\n",
        "\n",
        "hasil = perhitungan()\n",
        "print(hasil)"
      ],
      "metadata": {
        "colab": {
          "base_uri": "https://localhost:8080/"
        },
        "id": "NnWACutJdBix",
        "outputId": "53a63ec4-318f-49ad-af93-96a79aee2c82"
      },
      "execution_count": null,
      "outputs": [
        {
          "output_type": "stream",
          "name": "stdout",
          "text": [
            "masukan angka 1 : 30\n",
            "masukan angka 2 : 49\n",
            "79\n"
          ]
        }
      ]
    },
    {
      "cell_type": "code",
      "source": [
        "# fungsi yang mengembalikan nilai dengan argumen/parameter\n",
        "def jumlah(angka_1, angka_2):\n",
        "  hasil = int(angka_1) + int(angka_2)\n",
        "  return hasil\n",
        "\n",
        "x = jumlah (3,8)\n",
        "y = jumlah (20,35)\n",
        "\n",
        "print(x)\n",
        "print(y)"
      ],
      "metadata": {
        "colab": {
          "base_uri": "https://localhost:8080/"
        },
        "id": "QFNMUK1udtZB",
        "outputId": "aca494d3-2ea0-4634-eee2-460cf402d3fd"
      },
      "execution_count": null,
      "outputs": [
        {
          "output_type": "stream",
          "name": "stdout",
          "text": [
            "11\n",
            "55\n"
          ]
        }
      ]
    },
    {
      "cell_type": "code",
      "source": [
        "# fungsi lambda\n",
        "x = lambda a : a +10\n",
        "print(x(5))\n",
        "\n",
        "x = lambda a, b : a * b\n",
        "print(x(5,6))\n",
        "\n",
        "x = lambda a, b, c : a + b + c\n",
        "print(x(7,8,9))"
      ],
      "metadata": {
        "colab": {
          "base_uri": "https://localhost:8080/"
        },
        "id": "nwZZ5CNgejO2",
        "outputId": "48d60791-496e-4cc3-8ea5-29c22d4bfb9b"
      },
      "execution_count": null,
      "outputs": [
        {
          "output_type": "stream",
          "name": "stdout",
          "text": [
            "15\n",
            "30\n",
            "24\n"
          ]
        }
      ]
    },
    {
      "cell_type": "code",
      "source": [
        "# modifikasi\n",
        "angka_1 = 100\n",
        "pi = 3.14\n",
        "\n",
        "def hallo() :\n",
        "  print(\"Hallo Geografi\")\n",
        "\n",
        "def hitung():\n",
        "  angka_1 = 20\n",
        "  angka_2 = 30\n",
        "  hasil = angka_1+angka_2\n",
        "  return hasil\n",
        "\n",
        "def tambah(anggka_1, angka_2):\n",
        "  hasil = int(angka_1)+int(angka_2)\n",
        "  return hasil\n",
        "\n",
        "def kurang(anggka_1, angka_2):\n",
        "  hasil = angka_1-angka_2\n",
        "  return hasil\n",
        "\n",
        "def bagi(anggka_1, angka_2):\n",
        "  hasil = angka_1/angka_2\n",
        "  return hasil\n",
        "\n",
        "def kali(anggka_1, angka_2):\n",
        "  hasil = int(angka_1)*int(angka_2)\n",
        "  return hasil\n",
        "\n",
        "def luas_persegi_panjang(panjang, lebar):\n",
        "  hasil = panjang*lebar\n",
        "  return hasil"
      ],
      "metadata": {
        "id": "05i6wCL4faNG"
      },
      "execution_count": null,
      "outputs": []
    },
    {
      "cell_type": "code",
      "source": [
        "def tambah(anggka_1, angka_2):\n",
        "  hasil = int(angka_1)+int(angka_2)\n",
        "  return hasil\n"
      ],
      "metadata": {
        "id": "PRv_ksG3p6C7"
      },
      "execution_count": null,
      "outputs": []
    },
    {
      "cell_type": "code",
      "source": [
        "# import module\n",
        "from apalah import *\n",
        "\n",
        "print(pi)\n",
        "hallo()"
      ],
      "metadata": {
        "colab": {
          "base_uri": "https://localhost:8080/"
        },
        "id": "3r5QS7fLifHp",
        "outputId": "a2de04f2-f086-4f62-aa9a-db274c83a623"
      },
      "execution_count": null,
      "outputs": [
        {
          "output_type": "stream",
          "name": "stdout",
          "text": [
            "3.14\n",
            "Hallo Geografi\n"
          ]
        }
      ]
    },
    {
      "cell_type": "code",
      "source": [
        "from apalah import *\n",
        "luas_segitiga(2,3)"
      ],
      "metadata": {
        "colab": {
          "base_uri": "https://localhost:8080/"
        },
        "id": "VkFEjkwxwPHg",
        "outputId": "8ce78378-11d5-4d39-ab63-86c338e16136"
      },
      "execution_count": null,
      "outputs": [
        {
          "output_type": "execute_result",
          "data": {
            "text/plain": [
              "3.0"
            ]
          },
          "metadata": {},
          "execution_count": 20
        }
      ]
    },
    {
      "cell_type": "code",
      "source": [
        "from apalah import *\n",
        "luas_persegi_panjang(4,5)"
      ],
      "metadata": {
        "colab": {
          "base_uri": "https://localhost:8080/"
        },
        "id": "NAAiCOSnyphH",
        "outputId": "6ce2d5d1-0b3f-48ed-ac26-8d29733e2670"
      },
      "execution_count": null,
      "outputs": [
        {
          "output_type": "execute_result",
          "data": {
            "text/plain": [
              "20"
            ]
          },
          "metadata": {},
          "execution_count": 21
        }
      ]
    },
    {
      "cell_type": "code",
      "source": [
        "from apalah import *\n",
        "\n",
        "print()\n",
        "\n",
        "hallo()\n",
        "\n",
        "bil_1 = input(\"masukkan bilangan 1: \")\n",
        "bil_2 = input(\"masukkan bilangan 2: \")\n",
        "\n",
        "print(\"hasilnya adalah :\", kali(bil_1, bil_2))"
      ],
      "metadata": {
        "colab": {
          "base_uri": "https://localhost:8080/"
        },
        "id": "VH_nrYjq0y2f",
        "outputId": "861d37de-bca0-4745-a995-ceb0da192139"
      },
      "execution_count": null,
      "outputs": [
        {
          "output_type": "stream",
          "name": "stdout",
          "text": [
            "\n",
            "Hallo Geografi\n",
            "masukkan bilangan 1: 2\n",
            "masukkan bilangan 2: 3\n",
            "hasilnya adalah : 300\n"
          ]
        }
      ]
    },
    {
      "cell_type": "code",
      "source": [
        "from apalah import *\n",
        "print(pi)\n",
        "hallo()\n",
        "\n",
        "bil_1 = input(\"masukkan bilangan 1: \")\n",
        "bil_2 = input(\"masukkan bilangan 2: \")\n",
        "\n",
        "print(\"hasilnya adalah : \", kali(bil_1, bil_2))"
      ],
      "metadata": {
        "colab": {
          "base_uri": "https://localhost:8080/"
        },
        "id": "fTAXcn9ci9oE",
        "outputId": "2276fb01-393b-4d4d-f914-b4ad01365da6"
      },
      "execution_count": null,
      "outputs": [
        {
          "output_type": "stream",
          "name": "stdout",
          "text": [
            "3.14\n",
            "Hallo Geografi\n",
            "masukkan bilangan 1: 4\n",
            "masukkan bilangan 2: 2\n",
            "hasilnya adalah :  200\n"
          ]
        }
      ]
    },
    {
      "cell_type": "code",
      "source": [
        "# tugas praktikum\n",
        "# Module: penduduk_functions.py\n",
        "\n",
        "def kepadatan_penduduk_agraris(jumlah_penduduk, luas_wilayah_pertanian):\n",
        "    \"\"\"\n",
        "    Menghitung Kepadatan Penduduk Agraris.\n",
        "\n",
        "    Parameters:\n",
        "    - jumlah_penduduk (int): Jumlah penduduk.\n",
        "    - luas_wilayah_pertanian (float): Luas wilayah pertanian.\n",
        "\n",
        "    Returns:\n",
        "    - float: Kepadatan Penduduk Agraris.\n",
        "    \"\"\"\n",
        "    kpa = jumlah_penduduk / luas_wilayah_pertanian\n",
        "    return kpa\n",
        "\n",
        "def pertumbuhan_penduduk_alami(jumlah_kelahiran, jumlah_kematian, jumlah_penduduk_awal):\n",
        "    \"\"\"\n",
        "    Menghitung Pertumbuhan Penduduk Alami (RNI).\n",
        "\n",
        "    Parameters:\n",
        "    - jumlah_kelahiran (int): Jumlah kelahiran.\n",
        "    - jumlah_kematian (int): Jumlah kematian.\n",
        "    - jumlah_penduduk_awal (int): Jumlah penduduk awal.\n",
        "\n",
        "    Returns:\n",
        "    - float: Tingkat Pertumbuhan Penduduk Alami (RNI).\n",
        "    \"\"\"\n",
        "    rni = ((jumlah_kelahiran - jumlah_kematian) / jumlah_penduduk_awal) * 100\n",
        "    return rni\n",
        "\n",
        "def ubah_skala_garis_ke_angka(panjang_garis_cm, skala_cm_km):\n",
        "    \"\"\"\n",
        "    Mengubah Skala Garis ke Angka.\n",
        "\n",
        "    Parameters:\n",
        "    - panjang_garis_cm (int): Panjang garis dalam cm.\n",
        "    - skala_cm_km (int): Skala untuk mengubah cm ke km.\n",
        "\n",
        "    Returns:\n",
        "    - float: Panjang garis dalam km.\n",
        "    \"\"\"\n",
        "    panjang_garis_km = panjang_garis_cm / (100000 * skala_cm_km)\n",
        "    return panjang_garis_km"
      ],
      "metadata": {
        "id": "wa7RDCI-jZkE"
      },
      "execution_count": null,
      "outputs": []
    }
  ]
}