{
  "nbformat": 4,
  "nbformat_minor": 0,
  "metadata": {
    "colab": {
      "provenance": []
    },
    "kernelspec": {
      "name": "python3",
      "display_name": "Python 3"
    },
    "language_info": {
      "name": "python"
    }
  },
  "cells": [
    {
      "cell_type": "code",
      "execution_count": null,
      "metadata": {
        "colab": {
          "base_uri": "https://localhost:8080/"
        },
        "id": "_DwobdehhETi",
        "outputId": "bd16ac1f-e8a6-414d-d17f-134e5ea0fb20"
      },
      "outputs": [
        {
          "output_type": "stream",
          "name": "stdout",
          "text": [
            "[1. 2. 3. 4.]\n",
            "<class 'numpy.ndarray'>\n"
          ]
        }
      ],
      "source": [
        "import numpy as np\n",
        "array = np.array([3,6,9,12])\n",
        "\n",
        "pembagian = array/3\n",
        "\n",
        "print(pembagian)\n",
        "\n",
        "print(type(pembagian))"
      ]
    },
    {
      "cell_type": "code",
      "source": [
        "list = ([3,6,9,12])\n",
        "\n",
        "division = list/3"
      ],
      "metadata": {
        "colab": {
          "base_uri": "https://localhost:8080/",
          "height": 212
        },
        "id": "uSlj-nG7TC0a",
        "outputId": "57ca688d-25d8-494f-d39e-638c645f0ef7"
      },
      "execution_count": null,
      "outputs": [
        {
          "output_type": "error",
          "ename": "TypeError",
          "evalue": "ignored",
          "traceback": [
            "\u001b[0;31m---------------------------------------------------------------------------\u001b[0m",
            "\u001b[0;31mTypeError\u001b[0m                                 Traceback (most recent call last)",
            "\u001b[0;32m<ipython-input-1-7d1d84da503a>\u001b[0m in \u001b[0;36m<cell line: 3>\u001b[0;34m()\u001b[0m\n\u001b[1;32m      1\u001b[0m \u001b[0mlist\u001b[0m \u001b[0;34m=\u001b[0m \u001b[0;34m(\u001b[0m\u001b[0;34m[\u001b[0m\u001b[0;36m3\u001b[0m\u001b[0;34m,\u001b[0m\u001b[0;36m6\u001b[0m\u001b[0;34m,\u001b[0m\u001b[0;36m9\u001b[0m\u001b[0;34m,\u001b[0m\u001b[0;36m12\u001b[0m\u001b[0;34m]\u001b[0m\u001b[0;34m)\u001b[0m\u001b[0;34m\u001b[0m\u001b[0;34m\u001b[0m\u001b[0m\n\u001b[1;32m      2\u001b[0m \u001b[0;34m\u001b[0m\u001b[0m\n\u001b[0;32m----> 3\u001b[0;31m \u001b[0mdivision\u001b[0m \u001b[0;34m=\u001b[0m \u001b[0mlist\u001b[0m\u001b[0;34m/\u001b[0m\u001b[0;36m3\u001b[0m\u001b[0;34m\u001b[0m\u001b[0;34m\u001b[0m\u001b[0m\n\u001b[0m",
            "\u001b[0;31mTypeError\u001b[0m: unsupported operand type(s) for /: 'list' and 'int'"
          ]
        }
      ]
    },
    {
      "cell_type": "code",
      "source": [
        "import numpy as np\n",
        "list = np.array([3,6,9,12])\n",
        "\n",
        "division = list/3\n",
        "print(division)\n",
        "\n",
        "print(type(pembagian))"
      ],
      "metadata": {
        "colab": {
          "base_uri": "https://localhost:8080/"
        },
        "id": "-XaUJizenq_T",
        "outputId": "3ffd574d-7d88-4770-c6c9-aac5da214b00"
      },
      "execution_count": null,
      "outputs": [
        {
          "output_type": "stream",
          "name": "stdout",
          "text": [
            "[1. 2. 3. 4.]\n",
            "<class 'numpy.ndarray'>\n"
          ]
        }
      ]
    },
    {
      "cell_type": "code",
      "source": [
        "buah = [\"pisang\", \"mangga\", \"jeruk\", \"durian\", \"semangka\"]\n",
        "# cara lain untuk menampilkan array\n",
        "print(buah)\n",
        "\n",
        "buah[4] = \"melon\"\n",
        "print(buah)\n",
        "\n",
        "buah.append('anggur') #tambah list\n",
        "print(buah)"
      ],
      "metadata": {
        "colab": {
          "base_uri": "https://localhost:8080/"
        },
        "id": "lMC1ywfmn1vx",
        "outputId": "290b5bc0-5daf-4a7c-c75e-6d38e29ca8be"
      },
      "execution_count": null,
      "outputs": [
        {
          "output_type": "stream",
          "name": "stdout",
          "text": [
            "['pisang', 'mangga', 'jeruk', 'durian', 'semangka']\n",
            "['pisang', 'mangga', 'jeruk', 'durian', 'melon']\n",
            "['pisang', 'mangga', 'jeruk', 'durian', 'melon', 'anggur']\n"
          ]
        }
      ]
    },
    {
      "cell_type": "code",
      "source": [
        "reptil = [\"buaya\", \"ular\", \"tuatara\", \"anaconda\", \"biawak\"]\n",
        "print(reptil)\n",
        "\n",
        "reptil[3] = \"kadal\"\n",
        "print(reptil)\n",
        "\n",
        "reptil.append(\"penyu\")\n",
        "print(reptil)\n",
        "\n",
        "reptil.insert(3, \"cicak\")\n",
        "print(reptil)\n",
        "\n",
        "reptil.remove(\"cicak\")\n",
        "print(reptil)"
      ],
      "metadata": {
        "colab": {
          "base_uri": "https://localhost:8080/"
        },
        "id": "XxUFqkS-o2mM",
        "outputId": "9179eda2-6cd9-4e65-eb22-3e69cddb9642"
      },
      "execution_count": null,
      "outputs": [
        {
          "output_type": "stream",
          "name": "stdout",
          "text": [
            "['buaya', 'ular', 'tuatara', 'anaconda', 'biawak']\n",
            "['buaya', 'ular', 'tuatara', 'kadal', 'biawak']\n",
            "['buaya', 'ular', 'tuatara', 'kadal', 'biawak', 'penyu']\n",
            "['buaya', 'ular', 'tuatara', 'cicak', 'kadal', 'biawak', 'penyu']\n",
            "['buaya', 'ular', 'tuatara', 'kadal', 'biawak', 'penyu']\n"
          ]
        }
      ]
    },
    {
      "cell_type": "code",
      "source": [
        "hewanberkaki2 = [\"ayam\", \"bebek\", \"burung\"]\n",
        "hewanberkaki4 = [\"kambing\", \"sapi\", \"kijang\"]\n",
        "\n",
        "hewanberkaki2.extend(hewanberkaki4) #menggabungkan list\n",
        "print(hewanberkaki2)\n",
        "\n",
        "hewanberkaki2.pop(-1) #menghapus index terakhir\n",
        "print(hewanberkaki2)"
      ],
      "metadata": {
        "colab": {
          "base_uri": "https://localhost:8080/"
        },
        "id": "kS5rAtUtqRy2",
        "outputId": "ffea6516-8e2e-4c2b-9736-24054dc65aaf"
      },
      "execution_count": null,
      "outputs": [
        {
          "output_type": "stream",
          "name": "stdout",
          "text": [
            "['ayam', 'bebek', 'burung', 'kambing', 'sapi', 'kijang']\n",
            "['ayam', 'bebek', 'burung', 'kambing', 'sapi']\n"
          ]
        }
      ]
    },
    {
      "cell_type": "code",
      "source": [
        "lkosong = [\"bayam\", \"kangkung\", \"kosong\", \"sawi\", \"paprica\", \"kosong\"]\n",
        "\n",
        "lada = lkosong.copy()\n",
        "\n",
        "lkosong.clear() #kosongkan list\n",
        "\n",
        "lkosong.count(\"kosong\") # hitung kosong keluar berapa kali\n",
        "\n",
        "print(lkosong)\n",
        "print(lada)"
      ],
      "metadata": {
        "colab": {
          "base_uri": "https://localhost:8080/"
        },
        "id": "yCoo0F17rcMS",
        "outputId": "8d6498db-bfe0-4d69-d0dd-df5edeecc4d4"
      },
      "execution_count": null,
      "outputs": [
        {
          "output_type": "stream",
          "name": "stdout",
          "text": [
            "[]\n",
            "['bayam', 'kangkung', 'kosong', 'sawi', 'paprica', 'kosong']\n"
          ]
        }
      ]
    },
    {
      "cell_type": "code",
      "source": [
        "angka = [14,7,2,54,32,56,77,21,53,80]\n",
        "target = int(input(\"cari angka berapa : \"))\n",
        "cari = False\n",
        "\n",
        "for i in range(len(angka)):\n",
        "  cari = angka[i] == target\n",
        "  if cari :\n",
        "    break\n",
        "\n",
        "if cari :\n",
        "  print(\"angka berada pada index ke \", i)\n",
        "else:\n",
        "  print(\"angka tidak ditemukan\")"
      ],
      "metadata": {
        "colab": {
          "base_uri": "https://localhost:8080/"
        },
        "id": "oHCY-v13rRCw",
        "outputId": "09360264-22be-499f-b284-37b8993e41fd"
      },
      "execution_count": null,
      "outputs": [
        {
          "output_type": "stream",
          "name": "stdout",
          "text": [
            "cari angka berapa : 14\n",
            "angka berada pada index ke  0\n"
          ]
        }
      ]
    },
    {
      "cell_type": "code",
      "source": [
        "# Khulika Malkan (2311110057)\n",
        "# Tugas Praktikum Algoritma Pemograman (S1SD04-B)\n",
        "\n",
        "nama_nama_pegawai = [\"Akhdiyat Duta Modjo\", \"Eros Candra\", \"Adam Muhammad Subarkah\", \"Saktia Ari Seno\"]\n",
        "print(nama_nama_pegawai)\n",
        "\n",
        "nama_nama_pegawai.remove('Eros Candra') # menghapus data Eros Candra\n",
        "print(nama_nama_pegawai)\n",
        "\n",
        "nama_nama_pegawai.append (\"Brian Kresno Putro\") # Masukkan data Brian Kresna Putro\n",
        "print(nama_nama_pegawai)\n",
        "\n",
        "nama_nama_pegawai.insert(2, \"Anton Widiastanto\") # Memasukkan data Anton Widiastanto\n",
        "print(nama_nama_pegawai)\n",
        "\n",
        "nama_nama_pegawai[2] = \"Abdul Jaelani Ishaq\" # Mengganti data Anton Widiastanto menjadi Abdul Jaelani Ishaq\n",
        "print(nama_nama_pegawai)\n",
        "\n",
        "nama_nama_pegawai.remove(\"Saktia Ari Seno\") # Menghapus data Saktia Ari Seno\n",
        "print(nama_nama_pegawai)\n",
        "\n"
      ],
      "metadata": {
        "colab": {
          "base_uri": "https://localhost:8080/"
        },
        "id": "jeaCmCFXuvOX",
        "outputId": "56194d26-1a92-4d67-9e57-065a122cc18d"
      },
      "execution_count": null,
      "outputs": [
        {
          "output_type": "stream",
          "name": "stdout",
          "text": [
            "['Akhdiyat Duta Modjo', 'Eros Candra', 'Adam Muhammad Subarkah', 'Saktia Ari Seno']\n",
            "['Akhdiyat Duta Modjo', 'Adam Muhammad Subarkah', 'Saktia Ari Seno']\n",
            "['Akhdiyat Duta Modjo', 'Adam Muhammad Subarkah', 'Saktia Ari Seno', 'Brian Kresno Putro']\n",
            "['Akhdiyat Duta Modjo', 'Adam Muhammad Subarkah', 'Anton Widiastanto', 'Saktia Ari Seno', 'Brian Kresno Putro']\n",
            "['Akhdiyat Duta Modjo', 'Adam Muhammad Subarkah', 'Abdul Jaelani Ishaq', 'Saktia Ari Seno', 'Brian Kresno Putro']\n",
            "['Akhdiyat Duta Modjo', 'Adam Muhammad Subarkah', 'Abdul Jaelani Ishaq', 'Brian Kresno Putro']\n"
          ]
        }
      ]
    },
    {
      "cell_type": "code",
      "source": [
        "nama_pegawai = [\"Akhidayat Duta Modjo\", \"Eros Candra\", \"Adam Muhammad Subarkah\", \"Saktia Ari Seno\"]\n",
        "print(nama_pegawai)\n",
        "\n",
        "nama_pegawai.remove('Eros Candra')\n",
        "print(nama_pegawai)\n",
        "\n",
        "tambahan = int(input(\"masukan data tambahan: \"))\n",
        "pegawai_baru = int(input(\"masukan data : \"))\n",
        "print(tambahan)\n",
        "print(pegawai_baru)\n",
        "\n",
        "tambahan.extend(pegawai_baru) #menggabungkan list\n",
        "print(tambahan)"
      ],
      "metadata": {
        "colab": {
          "base_uri": "https://localhost:8080/",
          "height": 299
        },
        "id": "_B0PcJyj1U0s",
        "outputId": "86b94d30-1d2c-42a1-848d-1bb9a68c244e"
      },
      "execution_count": null,
      "outputs": [
        {
          "name": "stdout",
          "output_type": "stream",
          "text": [
            "['Akhidayat Duta Modjo', 'Eros Candra', 'Adam Muhammad Subarkah', 'Saktia Ari Seno']\n",
            "['Akhidayat Duta Modjo', 'Adam Muhammad Subarkah', 'Saktia Ari Seno']\n",
            "masukan data tambahan: bil\n"
          ]
        },
        {
          "output_type": "error",
          "ename": "ValueError",
          "evalue": "ignored",
          "traceback": [
            "\u001b[0;31m---------------------------------------------------------------------------\u001b[0m",
            "\u001b[0;31mValueError\u001b[0m                                Traceback (most recent call last)",
            "\u001b[0;32m<ipython-input-4-82a8f9733b66>\u001b[0m in \u001b[0;36m<cell line: 7>\u001b[0;34m()\u001b[0m\n\u001b[1;32m      5\u001b[0m \u001b[0mprint\u001b[0m\u001b[0;34m(\u001b[0m\u001b[0mnama_pegawai\u001b[0m\u001b[0;34m)\u001b[0m\u001b[0;34m\u001b[0m\u001b[0;34m\u001b[0m\u001b[0m\n\u001b[1;32m      6\u001b[0m \u001b[0;34m\u001b[0m\u001b[0m\n\u001b[0;32m----> 7\u001b[0;31m \u001b[0mtambahan\u001b[0m \u001b[0;34m=\u001b[0m \u001b[0mint\u001b[0m\u001b[0;34m(\u001b[0m\u001b[0minput\u001b[0m\u001b[0;34m(\u001b[0m\u001b[0;34m\"masukan data tambahan: \"\u001b[0m\u001b[0;34m)\u001b[0m\u001b[0;34m)\u001b[0m\u001b[0;34m\u001b[0m\u001b[0;34m\u001b[0m\u001b[0m\n\u001b[0m\u001b[1;32m      8\u001b[0m \u001b[0mpegawai_baru\u001b[0m \u001b[0;34m=\u001b[0m \u001b[0mint\u001b[0m\u001b[0;34m(\u001b[0m\u001b[0minput\u001b[0m\u001b[0;34m(\u001b[0m\u001b[0;34m\"masukan data : \"\u001b[0m\u001b[0;34m)\u001b[0m\u001b[0;34m)\u001b[0m\u001b[0;34m\u001b[0m\u001b[0;34m\u001b[0m\u001b[0m\n\u001b[1;32m      9\u001b[0m \u001b[0mprint\u001b[0m\u001b[0;34m(\u001b[0m\u001b[0mtambahan\u001b[0m\u001b[0;34m)\u001b[0m\u001b[0;34m\u001b[0m\u001b[0;34m\u001b[0m\u001b[0m\n",
            "\u001b[0;31mValueError\u001b[0m: invalid literal for int() with base 10: 'bil'"
          ]
        }
      ]
    },
    {
      "cell_type": "code",
      "source": [
        "# Khulika Malkan (2311110057)\n",
        "# Tugas Praktikum Algoritma Pemograman (S1SD04-B)\n",
        "\n",
        "nama_nama_pegawai = []\n",
        "\n",
        "nama_nama_pegawai = [\"Akhdiyat Duta Modjo\", \"Eros Candra\", \"Adam Muhammad Subarkah\", \"Saktia Ari Seno\"]\n",
        "print(nama_nama_pegawai)\n",
        "\n",
        "nama_nama_pegawai.remove('Eros Candra') # menghapus data Eros Candra\n",
        "print(nama_nama_pegawai)\n",
        "\n",
        "nama_nama_pegawai.append(input(\"masukan nama : \")) # Masukkan data Brian Kresna Putro\n",
        "nama_nama_pegawai.append(input(\"masukan nama :\")) # Memasukkan data Anton Widiastanto\n",
        "print(nama_nama_pegawai)\n",
        "\n",
        "nama_nama_pegawai[2] = \"Abdul Jaelani Ishaq\" # Mengganti data Anton Widiastanto menjadi Abdul Jaelani Ishaq\n",
        "print(nama_nama_pegawai)\n",
        "\n",
        "nama_nama_pegawai.remove('Saktia Ari Seno') # Menghapus data Saktia Ari Seno\n",
        "print(nama_nama_pegawai)\n",
        "\n",
        "print(\"seluruh data pegawai : \")\n",
        "for pegawai in nama_nama_pegawai :\n",
        "  print(egawai)"
      ],
      "metadata": {
        "colab": {
          "base_uri": "https://localhost:8080/",
          "height": 351
        },
        "id": "1QtYYYNbYvOy",
        "outputId": "873a6577-a4a9-4261-9818-982eb0175e57"
      },
      "execution_count": null,
      "outputs": [
        {
          "output_type": "stream",
          "name": "stdout",
          "text": [
            "['Akhdiyat Duta Modjo', 'Eros Candra', 'Adam Muhammad Subarkah', 'Saktia Ari Seno']\n",
            "['Akhdiyat Duta Modjo', 'Adam Muhammad Subarkah', 'Saktia Ari Seno']\n",
            "masukan nama : lik\n",
            "masukan nama :ko\n",
            "['Akhdiyat Duta Modjo', 'Adam Muhammad Subarkah', 'Saktia Ari Seno', 'lik', 'ko']\n",
            "['Akhdiyat Duta Modjo', 'Adam Muhammad Subarkah', 'Abdul Jaelani Ishaq', 'lik', 'ko']\n"
          ]
        },
        {
          "output_type": "error",
          "ename": "ValueError",
          "evalue": "ignored",
          "traceback": [
            "\u001b[0;31m---------------------------------------------------------------------------\u001b[0m",
            "\u001b[0;31mValueError\u001b[0m                                Traceback (most recent call last)",
            "\u001b[0;32m<ipython-input-12-560dcc3ebc39>\u001b[0m in \u001b[0;36m<cell line: 19>\u001b[0;34m()\u001b[0m\n\u001b[1;32m     17\u001b[0m \u001b[0mprint\u001b[0m\u001b[0;34m(\u001b[0m\u001b[0mnama_nama_pegawai\u001b[0m\u001b[0;34m)\u001b[0m\u001b[0;34m\u001b[0m\u001b[0;34m\u001b[0m\u001b[0m\n\u001b[1;32m     18\u001b[0m \u001b[0;34m\u001b[0m\u001b[0m\n\u001b[0;32m---> 19\u001b[0;31m \u001b[0mnama_nama_pegawai\u001b[0m\u001b[0;34m.\u001b[0m\u001b[0mremove\u001b[0m\u001b[0;34m(\u001b[0m\u001b[0;34m'Saktia Ari Seno'\u001b[0m\u001b[0;34m)\u001b[0m \u001b[0;31m# Menghapus data Saktia Ari Seno\u001b[0m\u001b[0;34m\u001b[0m\u001b[0;34m\u001b[0m\u001b[0m\n\u001b[0m\u001b[1;32m     20\u001b[0m \u001b[0mprint\u001b[0m\u001b[0;34m(\u001b[0m\u001b[0mnama_nama_pegawai\u001b[0m\u001b[0;34m)\u001b[0m\u001b[0;34m\u001b[0m\u001b[0;34m\u001b[0m\u001b[0m\n\u001b[1;32m     21\u001b[0m \u001b[0;34m\u001b[0m\u001b[0m\n",
            "\u001b[0;31mValueError\u001b[0m: list.remove(x): x not in list"
          ]
        }
      ]
    },
    {
      "cell_type": "code",
      "source": [
        "# Khulika Malkan (2311110057)\n",
        "# Tugas Praktikum Algoritma Pemograman (S1SD04-B)\n",
        "\n",
        "nama_pegawai = []\n",
        "\n",
        "nama_pegawai = [\"Akhdiyat Duta Modjo\", \"Eros Candra\", \"Adam Muhammad Subarkah\", \"Saktia Ari Seno\"]\n",
        "print(nama_pegawai)\n",
        "\n",
        "nama_pegawai.remove(\"Eros Candra\") # menghapus data Eros Candra\n",
        "print(nama_pegawai)\n",
        "\n",
        "nama_pegawai.append(str(input(\"masukkan nama : \"))) # Memasukkan data baru menggunakan fungsi input\n",
        "nama_pegawai.append(str(input(\"masukkan nama : \")))\n",
        "print(nama_pegawai)\n",
        "\n",
        "index_Anton = nama_pegawai.index(\"Anton Widiastanto\") # Mengganti data Anton Widiastanto menjadi Abdul Jaelani Ishaq\n",
        "nama_pegawai[index_Anton] = \"Abdul Jaelani Ishaq\"\n",
        "print(nama_pegawai)\n",
        "\n",
        "nama_pegawai.remove(\"Saktia Ari Seno\") # Menghapus data Saktia Ari Seno\n",
        "print(nama_pegawai)\n",
        "\n",
        "print(\"seluruh data pegawai : \") # Mampilan seluruh data pegawai menggunakan perulangan\n",
        "for pegawai in nama_pegawai :\n",
        "  print(pegawai)"
      ],
      "metadata": {
        "colab": {
          "base_uri": "https://localhost:8080/"
        },
        "id": "8Y2sxJwPalTI",
        "outputId": "9622a880-97e7-4a17-8167-61c9ef62a568"
      },
      "execution_count": null,
      "outputs": [
        {
          "output_type": "stream",
          "name": "stdout",
          "text": [
            "['Akhdiyat Duta Modjo', 'Eros Candra', 'Adam Muhammad Subarkah', 'Saktia Ari Seno']\n",
            "['Akhdiyat Duta Modjo', 'Adam Muhammad Subarkah', 'Saktia Ari Seno']\n",
            "masukkan nama : Brian Kresna Putro\n",
            "masukkan nama : Anton Widiastanto\n",
            "['Akhdiyat Duta Modjo', 'Adam Muhammad Subarkah', 'Saktia Ari Seno', 'Brian Kresna Putro', 'Anton Widiastanto']\n",
            "['Akhdiyat Duta Modjo', 'Adam Muhammad Subarkah', 'Saktia Ari Seno', 'Brian Kresna Putro', 'Abdul Jaelani Ishaq']\n",
            "['Akhdiyat Duta Modjo', 'Adam Muhammad Subarkah', 'Brian Kresna Putro', 'Abdul Jaelani Ishaq']\n",
            "seluruh data pegawai : \n",
            "Akhdiyat Duta Modjo\n",
            "Adam Muhammad Subarkah\n",
            "Brian Kresna Putro\n",
            "Abdul Jaelani Ishaq\n"
          ]
        }
      ]
    }
  ]
}