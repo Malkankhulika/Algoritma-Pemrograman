{
  "nbformat": 4,
  "nbformat_minor": 0,
  "metadata": {
    "colab": {
      "provenance": []
    },
    "kernelspec": {
      "name": "python3",
      "display_name": "Python 3"
    },
    "language_info": {
      "name": "python"
    }
  },
  "cells": [
    {
      "cell_type": "code",
      "execution_count": null,
      "metadata": {
        "colab": {
          "base_uri": "https://localhost:8080/"
        },
        "id": "SwVdVvJ6owZn",
        "outputId": "9f79d096-ed39-4829-b37a-ccea57a8aa74"
      },
      "outputs": [
        {
          "output_type": "execute_result",
          "data": {
            "text/plain": [
              "<function __main__.hello_world()>"
            ]
          },
          "metadata": {},
          "execution_count": 8
        }
      ],
      "source": [
        "def hello_world():\n",
        "  print(\"hello_world\")\n",
        "  hello_world\n",
        "\n",
        "hello_world"
      ]
    },
    {
      "cell_type": "code",
      "source": [
        "for i in range(5):\n",
        "  print(i)"
      ],
      "metadata": {
        "colab": {
          "base_uri": "https://localhost:8080/"
        },
        "id": "6NkbiEqIpF9g",
        "outputId": "795b41ea-e4fe-415f-cad4-b3de73d84acd"
      },
      "execution_count": null,
      "outputs": [
        {
          "output_type": "stream",
          "name": "stdout",
          "text": [
            "0\n",
            "1\n",
            "2\n",
            "3\n",
            "4\n"
          ]
        }
      ]
    },
    {
      "cell_type": "code",
      "source": [
        "def tampilkanangka (i):\n",
        "  print(f\"perulangan ke{i}\")\n",
        "\n",
        "tampilkanangka(1)\n",
        "tampilkanangka(2)\n",
        "tampilkanangka(3)"
      ],
      "metadata": {
        "colab": {
          "base_uri": "https://localhost:8080/"
        },
        "id": "3ZYH7U4rpLlU",
        "outputId": "51bf3b94-e270-443a-8f09-ab0e172d4d86"
      },
      "execution_count": null,
      "outputs": [
        {
          "output_type": "stream",
          "name": "stdout",
          "text": [
            "perulangan ke1\n",
            "perulangan ke2\n",
            "perulangan ke3\n"
          ]
        }
      ]
    },
    {
      "cell_type": "code",
      "source": [
        "def tampilkanangka (batas, i = 1):\n",
        "  print(f\"perulangan ke{i}\")\n",
        "\n",
        "tampilkanangka(3)\n",
        "tampilkanangka(3, 2)\n",
        "tampilkanangka(3, 4)\n",
        "tampilkanangka(4, 5)"
      ],
      "metadata": {
        "colab": {
          "base_uri": "https://localhost:8080/"
        },
        "id": "UsNhiBzTpj7Y",
        "outputId": "c7610d34-3c2c-4c5d-aff3-a207da020ecc"
      },
      "execution_count": null,
      "outputs": [
        {
          "output_type": "stream",
          "name": "stdout",
          "text": [
            "perulangan ke1\n",
            "perulangan ke2\n",
            "perulangan ke4\n",
            "perulangan ke5\n"
          ]
        }
      ]
    },
    {
      "cell_type": "code",
      "source": [
        "def tampilkanangka(batas, i=1):\n",
        "  print(f\"perulangan ke {i}\")\n",
        "\n",
        "  if (i < batas):\n",
        "    tampilkanangka(batas, i + 1)\n",
        "\n",
        "tampilkanangka(10,5)"
      ],
      "metadata": {
        "colab": {
          "base_uri": "https://localhost:8080/"
        },
        "id": "NrT1BI4IrqzE",
        "outputId": "c6e59559-ad80-414d-ceaf-b9d8aa94b229"
      },
      "execution_count": null,
      "outputs": [
        {
          "output_type": "stream",
          "name": "stdout",
          "text": [
            "perulangan ke 5\n",
            "perulangan ke 6\n",
            "perulangan ke 7\n",
            "perulangan ke 8\n",
            "perulangan ke 9\n",
            "perulangan ke 10\n"
          ]
        }
      ]
    },
    {
      "cell_type": "code",
      "source": [
        "n = int(input(\"masukan nilai n : \"))\n",
        "\n",
        "def hitung_faktorial (n):\n",
        "  if n >= 2:\n",
        "    return n * hitung_faktorial(n-1)\n",
        "\n",
        "  return 1  #kondisi else klo yg atas ga terpenuhi\n",
        "\n",
        "faktorial = hitung_faktorial(n)\n",
        "print(f\"{n}! = {faktorial}\")"
      ],
      "metadata": {
        "colab": {
          "base_uri": "https://localhost:8080/"
        },
        "id": "Zd4HZtMMsKNL",
        "outputId": "2e4d3965-e15d-4345-a6d5-abef59ac6186"
      },
      "execution_count": null,
      "outputs": [
        {
          "output_type": "stream",
          "name": "stdout",
          "text": [
            "masukan nilai n : 0\n",
            "0! = 1\n"
          ]
        }
      ]
    },
    {
      "cell_type": "code",
      "source": [
        "bilangan = int(input(\"masukkan bilangan : \"))\n",
        "pangkat = int(input(\"masukkan pangkat : \"))\n",
        "\n",
        "def hitung_pangkat(bilangan, pangkat):\n",
        "  if pangkat >= 1:\n",
        "    return bilangan * hitung_pangkat(bilangan, pangkat-1)\n",
        "\n",
        "  return 1\n",
        "\n",
        "hasil = hitung_pangkat(bilangan, pangkat)\n",
        "print(f\"hasil = {hasil}\")"
      ],
      "metadata": {
        "colab": {
          "base_uri": "https://localhost:8080/"
        },
        "id": "h-LOqZOus2g7",
        "outputId": "1edc5d9c-8ac4-4276-c5e7-e047b6a57c47"
      },
      "execution_count": null,
      "outputs": [
        {
          "output_type": "stream",
          "name": "stdout",
          "text": [
            "masukkan bilangan : 5\n",
            "masukkan pangkat : 1\n",
            "hasil = 5\n"
          ]
        }
      ]
    },
    {
      "cell_type": "code",
      "source": [
        "def fibonacci(n):\n",
        "  return [n]\n",
        "\n",
        "print(fibonacci(1))\n",
        "print(fibonacci(2))\n",
        "print(fibonacci(3))\n",
        "print(fibonacci(4))"
      ],
      "metadata": {
        "colab": {
          "base_uri": "https://localhost:8080/"
        },
        "id": "S14c6t4Eu4Ci",
        "outputId": "abdb43e7-8caf-4635-b025-cfe7ddcb97ec"
      },
      "execution_count": null,
      "outputs": [
        {
          "output_type": "stream",
          "name": "stdout",
          "text": [
            "[1]\n",
            "[2]\n",
            "[3]\n",
            "[4]\n"
          ]
        }
      ]
    },
    {
      "cell_type": "code",
      "source": [
        "def fibonacci (n):\n",
        "  if n < 1:\n",
        "    return [n]\n",
        "\n",
        "  return fibonacci(n-1) + [n]\n",
        "\n",
        "print(fibonacci(5))"
      ],
      "metadata": {
        "colab": {
          "base_uri": "https://localhost:8080/"
        },
        "id": "fLijn3wsvVxE",
        "outputId": "a53fbfa2-df76-4ffa-aa84-f2e561a44d56"
      },
      "execution_count": null,
      "outputs": [
        {
          "output_type": "stream",
          "name": "stdout",
          "text": [
            "[0, 1, 2, 3, 4, 5]\n"
          ]
        }
      ]
    },
    {
      "cell_type": "code",
      "source": [
        "def fibonacci (n):\n",
        "  if n < 1:\n",
        "    return [n]\n",
        "\n",
        "  list_sebelum_n = fibonacci(n-1)\n",
        "  angka1 = list_sebelum_n[-2] if len(list_sebelum_n) > 2 else 0\n",
        "  angka2 = list_sebelum_n[-1] if len(list_sebelum_n) > 2 else 1\n",
        "\n",
        "  print(\"list_sebelum_n\", list_sebelum_n)\n",
        "  print(f\"angka1: {angka1}, angka2: {angka2}\")\n",
        "  print()\n",
        "\n",
        "  return list_sebelum_n + [a]\n",
        "\n",
        "print(fibonacci(30))"
      ],
      "metadata": {
        "colab": {
          "base_uri": "https://localhost:8080/"
        },
        "id": "IB_UFvZawAcB",
        "outputId": "452020dc-349c-472f-a67f-b0c54082a3aa"
      },
      "execution_count": null,
      "outputs": [
        {
          "output_type": "stream",
          "name": "stdout",
          "text": [
            "list_sebelum_n [0]\n",
            "angka1: 0, angka2: 1\n",
            "\n",
            "list_sebelum_n [0, 1]\n",
            "angka1: 0, angka2: 1\n",
            "\n",
            "list_sebelum_n [0, 1, 2]\n",
            "angka1: 1, angka2: 2\n",
            "\n",
            "list_sebelum_n [0, 1, 2, 3]\n",
            "angka1: 2, angka2: 3\n",
            "\n",
            "list_sebelum_n [0, 1, 2, 3, 4]\n",
            "angka1: 3, angka2: 4\n",
            "\n",
            "list_sebelum_n [0, 1, 2, 3, 4, 5]\n",
            "angka1: 4, angka2: 5\n",
            "\n",
            "list_sebelum_n [0, 1, 2, 3, 4, 5, 6]\n",
            "angka1: 5, angka2: 6\n",
            "\n",
            "list_sebelum_n [0, 1, 2, 3, 4, 5, 6, 7]\n",
            "angka1: 6, angka2: 7\n",
            "\n",
            "list_sebelum_n [0, 1, 2, 3, 4, 5, 6, 7, 8]\n",
            "angka1: 7, angka2: 8\n",
            "\n",
            "list_sebelum_n [0, 1, 2, 3, 4, 5, 6, 7, 8, 9]\n",
            "angka1: 8, angka2: 9\n",
            "\n",
            "list_sebelum_n [0, 1, 2, 3, 4, 5, 6, 7, 8, 9, 10]\n",
            "angka1: 9, angka2: 10\n",
            "\n",
            "list_sebelum_n [0, 1, 2, 3, 4, 5, 6, 7, 8, 9, 10, 11]\n",
            "angka1: 10, angka2: 11\n",
            "\n",
            "list_sebelum_n [0, 1, 2, 3, 4, 5, 6, 7, 8, 9, 10, 11, 12]\n",
            "angka1: 11, angka2: 12\n",
            "\n",
            "list_sebelum_n [0, 1, 2, 3, 4, 5, 6, 7, 8, 9, 10, 11, 12, 13]\n",
            "angka1: 12, angka2: 13\n",
            "\n",
            "list_sebelum_n [0, 1, 2, 3, 4, 5, 6, 7, 8, 9, 10, 11, 12, 13, 14]\n",
            "angka1: 13, angka2: 14\n",
            "\n",
            "list_sebelum_n [0, 1, 2, 3, 4, 5, 6, 7, 8, 9, 10, 11, 12, 13, 14, 15]\n",
            "angka1: 14, angka2: 15\n",
            "\n",
            "list_sebelum_n [0, 1, 2, 3, 4, 5, 6, 7, 8, 9, 10, 11, 12, 13, 14, 15, 16]\n",
            "angka1: 15, angka2: 16\n",
            "\n",
            "list_sebelum_n [0, 1, 2, 3, 4, 5, 6, 7, 8, 9, 10, 11, 12, 13, 14, 15, 16, 17]\n",
            "angka1: 16, angka2: 17\n",
            "\n",
            "list_sebelum_n [0, 1, 2, 3, 4, 5, 6, 7, 8, 9, 10, 11, 12, 13, 14, 15, 16, 17, 18]\n",
            "angka1: 17, angka2: 18\n",
            "\n",
            "list_sebelum_n [0, 1, 2, 3, 4, 5, 6, 7, 8, 9, 10, 11, 12, 13, 14, 15, 16, 17, 18, 19]\n",
            "angka1: 18, angka2: 19\n",
            "\n",
            "list_sebelum_n [0, 1, 2, 3, 4, 5, 6, 7, 8, 9, 10, 11, 12, 13, 14, 15, 16, 17, 18, 19, 20]\n",
            "angka1: 19, angka2: 20\n",
            "\n",
            "list_sebelum_n [0, 1, 2, 3, 4, 5, 6, 7, 8, 9, 10, 11, 12, 13, 14, 15, 16, 17, 18, 19, 20, 21]\n",
            "angka1: 20, angka2: 21\n",
            "\n",
            "list_sebelum_n [0, 1, 2, 3, 4, 5, 6, 7, 8, 9, 10, 11, 12, 13, 14, 15, 16, 17, 18, 19, 20, 21, 22]\n",
            "angka1: 21, angka2: 22\n",
            "\n",
            "list_sebelum_n [0, 1, 2, 3, 4, 5, 6, 7, 8, 9, 10, 11, 12, 13, 14, 15, 16, 17, 18, 19, 20, 21, 22, 23]\n",
            "angka1: 22, angka2: 23\n",
            "\n",
            "list_sebelum_n [0, 1, 2, 3, 4, 5, 6, 7, 8, 9, 10, 11, 12, 13, 14, 15, 16, 17, 18, 19, 20, 21, 22, 23, 24]\n",
            "angka1: 23, angka2: 24\n",
            "\n",
            "list_sebelum_n [0, 1, 2, 3, 4, 5, 6, 7, 8, 9, 10, 11, 12, 13, 14, 15, 16, 17, 18, 19, 20, 21, 22, 23, 24, 25]\n",
            "angka1: 24, angka2: 25\n",
            "\n",
            "list_sebelum_n [0, 1, 2, 3, 4, 5, 6, 7, 8, 9, 10, 11, 12, 13, 14, 15, 16, 17, 18, 19, 20, 21, 22, 23, 24, 25, 26]\n",
            "angka1: 25, angka2: 26\n",
            "\n",
            "list_sebelum_n [0, 1, 2, 3, 4, 5, 6, 7, 8, 9, 10, 11, 12, 13, 14, 15, 16, 17, 18, 19, 20, 21, 22, 23, 24, 25, 26, 27]\n",
            "angka1: 26, angka2: 27\n",
            "\n",
            "list_sebelum_n [0, 1, 2, 3, 4, 5, 6, 7, 8, 9, 10, 11, 12, 13, 14, 15, 16, 17, 18, 19, 20, 21, 22, 23, 24, 25, 26, 27, 28]\n",
            "angka1: 27, angka2: 28\n",
            "\n",
            "list_sebelum_n [0, 1, 2, 3, 4, 5, 6, 7, 8, 9, 10, 11, 12, 13, 14, 15, 16, 17, 18, 19, 20, 21, 22, 23, 24, 25, 26, 27, 28, 29]\n",
            "angka1: 28, angka2: 29\n",
            "\n",
            "[0, 1, 2, 3, 4, 5, 6, 7, 8, 9, 10, 11, 12, 13, 14, 15, 16, 17, 18, 19, 20, 21, 22, 23, 24, 25, 26, 27, 28, 29, 30]\n"
          ]
        }
      ]
    },
    {
      "cell_type": "code",
      "source": [
        "# Khulika Malkan (2311110057)\n",
        "# Tugas Praktikum\n",
        "\n",
        "def fibonacci (n):\n",
        "  if n < 1:\n",
        "    return [n]\n",
        "\n",
        "  list_sebelum_n = fibonacci(n-1)\n",
        "  angka1 = list_sebelum_n[-2] if len(list_sebelum_n) > 2 else 0\n",
        "  angka2 = list_sebelum_n[-1] if len(list_sebelum_n) > 2 else 1\n",
        "\n",
        "  print(\"list_sebelum_n\", list_sebelum_n)\n",
        "  print(f\"angka1: {angka1}, angka2: {angka2}\")\n",
        "  print()\n",
        "\n",
        "  return list_sebelum_n + [angka1 + angka2]\n",
        "\n",
        "panjang = int(input(\"masukkan panjang deret : \"))\n",
        "\n",
        "print(fibonacci(panjang-1))"
      ],
      "metadata": {
        "colab": {
          "base_uri": "https://localhost:8080/"
        },
        "id": "C48FwL9-1KQr",
        "outputId": "ef6b7d96-ca19-464d-a72f-c43019d8a3d4"
      },
      "execution_count": null,
      "outputs": [
        {
          "output_type": "stream",
          "name": "stdout",
          "text": [
            "masukkan panjang deret : 2\n",
            "list_sebelum_n [0]\n",
            "angka1: 0, angka2: 1\n",
            "\n",
            "[0, 1]\n"
          ]
        }
      ]
    },
    {
      "cell_type": "code",
      "source": [
        "# khulika malkan (2311110057)\n",
        "# tugas praktikum rekursif\n",
        "def fibonacci (n):\n",
        "  if n < 1:\n",
        "    return [n]\n",
        "\n",
        "  list_sebelum_n = fibonacci(n-1)\n",
        "  angka1 = list_sebelum_n[-2] if len(list_sebelum_n) > 2 else 0\n",
        "  angka2 = list_sebelum_n[-1] if len(list_sebelum_n) > 2 else 1\n",
        "\n",
        "  return list_sebelum_n + [angka1 + angka2]\n",
        "\n",
        "panjang = int(input(\"masukkan panjang deret : \"))\n",
        "\n",
        "print(fibonacci(panjang-1))"
      ],
      "metadata": {
        "colab": {
          "base_uri": "https://localhost:8080/"
        },
        "id": "OPdcCMjzxqgt",
        "outputId": "26444c11-d8c7-4815-f46f-3446adeeb16a"
      },
      "execution_count": null,
      "outputs": [
        {
          "output_type": "stream",
          "name": "stdout",
          "text": [
            "masukkan panjang deret : 2\n",
            "[0, 1]\n"
          ]
        }
      ]
    },
    {
      "cell_type": "code",
      "source": [
        "# khulika malkan (2311110057)\n",
        "# tugas praktikum rekursif\n"
      ],
      "metadata": {
        "id": "rs1CQMYAySJy"
      },
      "execution_count": null,
      "outputs": []
    },
    {
      "cell_type": "code",
      "source": [
        "def func(x):\n",
        "  if x==0:\n",
        "    return 0\n",
        "  return x+func(x-1)\n",
        "\n",
        "func(5)"
      ],
      "metadata": {
        "colab": {
          "base_uri": "https://localhost:8080/"
        },
        "id": "s7UiFtIG1nY6",
        "outputId": "a908597e-edc6-4ac9-e390-534316429c07"
      },
      "execution_count": 1,
      "outputs": [
        {
          "output_type": "execute_result",
          "data": {
            "text/plain": [
              "15"
            ]
          },
          "metadata": {},
          "execution_count": 1
        }
      ]
    },
    {
      "cell_type": "code",
      "source": [
        "def func(x):\n",
        "  if x==0:\n",
        "    return 0\n",
        "  return x+func(x-1)\n",
        "\n",
        "func(2)"
      ],
      "metadata": {
        "colab": {
          "base_uri": "https://localhost:8080/"
        },
        "id": "pKyvFcfa3Fnh",
        "outputId": "61eae447-e8cd-444d-dc55-c7a3e9239003"
      },
      "execution_count": null,
      "outputs": [
        {
          "output_type": "execute_result",
          "data": {
            "text/plain": [
              "3"
            ]
          },
          "metadata": {},
          "execution_count": 7
        }
      ]
    }
  ]
}