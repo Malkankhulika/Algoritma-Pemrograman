{
  "nbformat": 4,
  "nbformat_minor": 0,
  "metadata": {
    "colab": {
      "provenance": []
    },
    "kernelspec": {
      "name": "python3",
      "display_name": "Python 3"
    },
    "language_info": {
      "name": "python"
    }
  },
  "cells": [
    {
      "cell_type": "code",
      "execution_count": null,
      "metadata": {
        "colab": {
          "base_uri": "https://localhost:8080/"
        },
        "id": "L7CP6oHOQinz",
        "outputId": "a5c4f68e-0cd9-49af-a333-75b819aaaa78"
      },
      "outputs": [
        {
          "output_type": "stream",
          "name": "stdout",
          "text": [
            "11 22 33\n",
            "belajar membuat komputer dalam python\n",
            "program studi : S1 Sains Data Institut Teknologi Telkom Purwokerto\n"
          ]
        }
      ],
      "source": [
        "# ini adalah komentar\n",
        "# komentar 1\n",
        "# komentar 2\n",
        "# komentar 3\n",
        "\n",
        "print(11,22,33)\n",
        "print(\"belajar membuat komputer dalam python\")\n",
        "prodi = \"S1 Sains Data\"\n",
        "kampus = \"Institut Teknologi Telkom Purwokerto\"\n",
        "print(\"program studi :\", prodi, kampus)\n"
      ]
    },
    {
      "cell_type": "code",
      "source": [
        "print(\"Purwokerto\", \"Banyumas\", \"Jawa Tengah\", sep =\"-\")\n",
        "print(\"30\", \"maret\", \"1950\", sep=\"/\")\n",
        "print(\"purwokerto\", \"banyumas\", \"jawa tengah\", end=\",\")\n",
        "print(\"republik\", end=\" \")\n",
        "print(\"indonesia\")"
      ],
      "metadata": {
        "colab": {
          "base_uri": "https://localhost:8080/"
        },
        "id": "X_QeK9GFUEsh",
        "outputId": "3ae643c6-724c-4207-d3db-5b66cb4fe642"
      },
      "execution_count": null,
      "outputs": [
        {
          "output_type": "stream",
          "name": "stdout",
          "text": [
            "Purwokerto-Banyumas-Jawa Tengah\n",
            "30/maret/1950\n",
            "purwokerto banyumas jawa tengah,republik indonesia\n"
          ]
        }
      ]
    },
    {
      "cell_type": "code",
      "source": [
        "print(\"purwokerto\", \"banyumas\", \"jawa tengah\", sep=\" \", end=\"&\\n\")\n",
        "print(\"republik indonesia\", end=\" \")\n",
        "print(\"77 tahun\")"
      ],
      "metadata": {
        "colab": {
          "base_uri": "https://localhost:8080/"
        },
        "id": "ecoI2oJ6Umac",
        "outputId": "c4a935fc-e71f-4892-ca72-bd2772a00eac"
      },
      "execution_count": null,
      "outputs": [
        {
          "output_type": "stream",
          "name": "stdout",
          "text": [
            "purwokerto banyumas jawa tengah&\n",
            "republik indonesia 77 tahun\n"
          ]
        }
      ]
    },
    {
      "cell_type": "code",
      "source": [
        "#fungsi input tanpa prompt\n",
        "kota=input()\n",
        "print(\"nama kota : \", kota)\n"
      ],
      "metadata": {
        "colab": {
          "base_uri": "https://localhost:8080/"
        },
        "id": "xhVh4ITsWe3A",
        "outputId": "0f1b7bd0-ae30-4b15-ed37-ecbc3d0f86b4"
      },
      "execution_count": null,
      "outputs": [
        {
          "output_type": "stream",
          "name": "stdout",
          "text": [
            "kuningan\n",
            "nama kota :  kuningan\n"
          ]
        }
      ]
    },
    {
      "cell_type": "code",
      "source": [
        "#fungsi imput prompt\n",
        "alamat = input(\"masukan alamat domisili :\")\n",
        "print(\"alamat domisili saya adalah:\", alamat)"
      ],
      "metadata": {
        "colab": {
          "base_uri": "https://localhost:8080/"
        },
        "id": "PmJJJLZjWjtc",
        "outputId": "8dadcd74-b698-45ef-d4ad-b1492ab699d5"
      },
      "execution_count": null,
      "outputs": [
        {
          "output_type": "stream",
          "name": "stdout",
          "text": [
            "masukan alamat domisili :kuningan\n",
            "alamat domisili saya adalah: kuningan\n"
          ]
        }
      ]
    },
    {
      "cell_type": "code",
      "source": [
        "print(float(60))\n",
        "print(int(5.8967))"
      ],
      "metadata": {
        "colab": {
          "base_uri": "https://localhost:8080/"
        },
        "id": "hz8CC1yAXTtl",
        "outputId": "f83fef2a-54f1-4545-e705-1f7d9c5bf1f0"
      },
      "execution_count": null,
      "outputs": [
        {
          "output_type": "stream",
          "name": "stdout",
          "text": [
            "60.0\n",
            "5\n"
          ]
        }
      ]
    },
    {
      "cell_type": "code",
      "source": [
        "#operasi matematika sederhana penambahan dua bilangan\n",
        "angka1 = input(\"masukan angka pertama : \")\n",
        "angka2 = input(\"masukan angka kedua : \")\n",
        "hasil = angka1 + angka2\n",
        "print(\"Hasil penjumlahan\", angka1, \"dan\", angka2, \"adalah\", hasil)"
      ],
      "metadata": {
        "colab": {
          "base_uri": "https://localhost:8080/"
        },
        "id": "9ArFGqD1YCjD",
        "outputId": "d79e42a3-4f9e-4dfc-d95d-b2af962973a2"
      },
      "execution_count": null,
      "outputs": [
        {
          "output_type": "stream",
          "name": "stdout",
          "text": [
            "masukan angka pertama : 2\n",
            "masukan angka kedua : 4\n",
            "Hasil penjumlahan 2 dan 4 adalah 24\n"
          ]
        }
      ]
    },
    {
      "cell_type": "code",
      "source": [
        "#operasi matematika\n",
        "angka1 =int(input(\"masukan angka pertama : \"))\n",
        "angka2 =int(input(\"masukan angka kedua : \"))\n",
        "hasil = angka1 + angka2\n",
        "print(\"hasil penjumlahan\", angka1, \"dan\", angka2, \"adalah\", hasil)"
      ],
      "metadata": {
        "colab": {
          "base_uri": "https://localhost:8080/"
        },
        "id": "nLz91-CKZIdg",
        "outputId": "d522fbe0-ab24-4965-8f42-127adffd404b"
      },
      "execution_count": null,
      "outputs": [
        {
          "output_type": "stream",
          "name": "stdout",
          "text": [
            "masukan angka pertama : 2\n",
            "masukan angka kedua : 4\n",
            "hasil penjumlahan 2 dan 4 adalah 6\n"
          ]
        }
      ]
    },
    {
      "cell_type": "code",
      "source": [
        "print(\"                            *\")\n",
        "print(\"                          *   *\")\n"
      ],
      "metadata": {
        "colab": {
          "base_uri": "https://localhost:8080/"
        },
        "id": "5cdC_DE3bRut",
        "outputId": "0d31fc91-f1d5-4ffd-bf0a-2b2b6ae6cac1"
      },
      "execution_count": null,
      "outputs": [
        {
          "output_type": "stream",
          "name": "stdout",
          "text": [
            "                            *\n",
            "                          *   *\n"
          ]
        }
      ]
    },
    {
      "cell_type": "code",
      "source": [
        "berat=input(berat)\n",
        "print(\"berat badan : \", berat)"
      ],
      "metadata": {
        "colab": {
          "base_uri": "https://localhost:8080/"
        },
        "id": "6Ltv86Zp103s",
        "outputId": "e6dac052-5cb6-49e3-efc1-ffc6c92e2eb4"
      },
      "execution_count": null,
      "outputs": [
        {
          "output_type": "stream",
          "name": "stdout",
          "text": [
            "2020\n",
            "berat badan :  20\n"
          ]
        }
      ]
    },
    {
      "cell_type": "code",
      "source": [
        "#rupiah ke dollar\n",
        "angka =int(input(\"masukan Rp : \"))\n",
        "hasil = int(angka1/15000)\n",
        "print(\"hasil konversi : $\", hasil)\n"
      ],
      "metadata": {
        "colab": {
          "base_uri": "https://localhost:8080/"
        },
        "id": "QBFvo9fJ85CZ",
        "outputId": "5e41a025-3fb0-404d-f261-ef4468f7f1a6"
      },
      "execution_count": null,
      "outputs": [
        {
          "output_type": "stream",
          "name": "stdout",
          "text": [
            "masukan Rp : 100000\n",
            "hasil konversi : $ 0\n"
          ]
        }
      ]
    },
    {
      "cell_type": "code",
      "source": [
        "#dollar ke rupiah\n",
        "angka =int(input(\"masukan $ : \"))\n",
        "hasil = int(angka1*15000)\n",
        "print(\"hasil konversi : Rp.\", hasil)"
      ],
      "metadata": {
        "colab": {
          "base_uri": "https://localhost:8080/"
        },
        "id": "yWAt1D4J98cK",
        "outputId": "2757e72e-ed7d-4071-f3e2-5af85e606210"
      },
      "execution_count": null,
      "outputs": [
        {
          "output_type": "stream",
          "name": "stdout",
          "text": [
            "masukan $ : 4\n",
            "hasil konversi : Rp. 60000\n"
          ]
        }
      ]
    }
  ]
}