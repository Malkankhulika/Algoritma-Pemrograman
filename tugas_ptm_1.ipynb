{
  "nbformat": 4,
  "nbformat_minor": 0,
  "metadata": {
    "colab": {
      "provenance": []
    },
    "kernelspec": {
      "name": "python3",
      "display_name": "Python 3"
    },
    "language_info": {
      "name": "python"
    }
  },
  "cells": [
    {
      "cell_type": "code",
      "execution_count": null,
      "metadata": {
        "colab": {
          "base_uri": "https://localhost:8080/"
        },
        "id": "rjhu_GVyPgW_",
        "outputId": "0a510dfc-a8ef-47f7-9504-e520d3df65d3"
      },
      "outputs": [
        {
          "output_type": "stream",
          "name": "stdout",
          "text": [
            "5\n"
          ]
        },
        {
          "output_type": "execute_result",
          "data": {
            "text/plain": [
              "int"
            ]
          },
          "metadata": {},
          "execution_count": 2
        }
      ],
      "source": [
        "print(5)\n",
        "type(5)\n"
      ]
    },
    {
      "cell_type": "code",
      "source": [
        "print(3.14)\n",
        "type(3.14)"
      ],
      "metadata": {
        "colab": {
          "base_uri": "https://localhost:8080/"
        },
        "id": "bvSN9nHCREkM",
        "outputId": "55496f77-99fd-4306-8716-e976c03b6992"
      },
      "execution_count": null,
      "outputs": [
        {
          "output_type": "stream",
          "name": "stdout",
          "text": [
            "3.14\n"
          ]
        },
        {
          "output_type": "execute_result",
          "data": {
            "text/plain": [
              "float"
            ]
          },
          "metadata": {},
          "execution_count": 3
        }
      ]
    },
    {
      "cell_type": "code",
      "source": [
        "print('done')\n",
        "type('done')"
      ],
      "metadata": {
        "colab": {
          "base_uri": "https://localhost:8080/"
        },
        "id": "yjDai2AKRPt1",
        "outputId": "eac57c95-fbcf-46ca-89f0-ba8775ee775b"
      },
      "execution_count": null,
      "outputs": [
        {
          "output_type": "stream",
          "name": "stdout",
          "text": [
            "done\n"
          ]
        },
        {
          "output_type": "execute_result",
          "data": {
            "text/plain": [
              "str"
            ]
          },
          "metadata": {},
          "execution_count": 4
        }
      ]
    },
    {
      "cell_type": "code",
      "source": [
        "print(1+2j)\n",
        "type(1+2j)"
      ],
      "metadata": {
        "colab": {
          "base_uri": "https://localhost:8080/"
        },
        "id": "piX796BjRWe5",
        "outputId": "b56bee20-8273-4af5-f04b-6e49178f97c5"
      },
      "execution_count": null,
      "outputs": [
        {
          "output_type": "stream",
          "name": "stdout",
          "text": [
            "(1+2j)\n"
          ]
        },
        {
          "output_type": "execute_result",
          "data": {
            "text/plain": [
              "complex"
            ]
          },
          "metadata": {},
          "execution_count": 5
        }
      ]
    },
    {
      "cell_type": "code",
      "source": [
        "print([1,2,3,4])\n",
        "type([1,2,3,4])"
      ],
      "metadata": {
        "colab": {
          "base_uri": "https://localhost:8080/"
        },
        "id": "1AxUm2UaRqmB",
        "outputId": "2b1078e3-3716-43fc-9e1f-d325e053a5f4"
      },
      "execution_count": null,
      "outputs": [
        {
          "output_type": "stream",
          "name": "stdout",
          "text": [
            "[1, 2, 3, 4]\n"
          ]
        },
        {
          "output_type": "execute_result",
          "data": {
            "text/plain": [
              "list"
            ]
          },
          "metadata": {},
          "execution_count": 6
        }
      ]
    },
    {
      "cell_type": "code",
      "source": [
        "print(['satu','dua','tiga','empat'])\n",
        "type(['satu','dua','tiga','empat'])"
      ],
      "metadata": {
        "colab": {
          "base_uri": "https://localhost:8080/"
        },
        "id": "tnq0kx59R748",
        "outputId": "5a09b705-a206-4f34-9141-3e4688a5993e"
      },
      "execution_count": null,
      "outputs": [
        {
          "output_type": "stream",
          "name": "stdout",
          "text": [
            "['satu', 'dua', 'tiga', 'empat']\n"
          ]
        },
        {
          "output_type": "execute_result",
          "data": {
            "text/plain": [
              "list"
            ]
          },
          "metadata": {},
          "execution_count": 7
        }
      ]
    },
    {
      "cell_type": "code",
      "source": [
        "print((1,2,3,4))\n",
        "type((1,2,3,4))"
      ],
      "metadata": {
        "colab": {
          "base_uri": "https://localhost:8080/"
        },
        "id": "M56RZzfkSZc-",
        "outputId": "1d8a484f-4e34-46c6-c593-02e18191126b"
      },
      "execution_count": null,
      "outputs": [
        {
          "output_type": "stream",
          "name": "stdout",
          "text": [
            "(1, 2, 3, 4)\n"
          ]
        },
        {
          "output_type": "execute_result",
          "data": {
            "text/plain": [
              "tuple"
            ]
          },
          "metadata": {},
          "execution_count": 8
        }
      ]
    },
    {
      "cell_type": "code",
      "source": [
        "print(('satu','dua','tiga','empat'))\n",
        "type(('satu','dua','tiga','empat'))"
      ],
      "metadata": {
        "colab": {
          "base_uri": "https://localhost:8080/"
        },
        "id": "_ZaoSHtCShqq",
        "outputId": "8ac8af03-850f-477a-aa11-a6f722d2969c"
      },
      "execution_count": null,
      "outputs": [
        {
          "output_type": "stream",
          "name": "stdout",
          "text": [
            "('satu', 'dua', 'tiga', 'empat')\n"
          ]
        },
        {
          "output_type": "execute_result",
          "data": {
            "text/plain": [
              "tuple"
            ]
          },
          "metadata": {},
          "execution_count": 10
        }
      ]
    },
    {
      "cell_type": "code",
      "source": [
        "print({'nama':'Budi','umur':20})\n",
        "type({'nama':'Budi','umur':20})"
      ],
      "metadata": {
        "colab": {
          "base_uri": "https://localhost:8080/"
        },
        "id": "iG-bPNLAS6pU",
        "outputId": "9acf431a-8764-4a6c-fdf7-04725b5ad043"
      },
      "execution_count": null,
      "outputs": [
        {
          "output_type": "stream",
          "name": "stdout",
          "text": [
            "{'nama': 'Budi', 'umur': 20}\n"
          ]
        },
        {
          "output_type": "execute_result",
          "data": {
            "text/plain": [
              "dict"
            ]
          },
          "metadata": {},
          "execution_count": 12
        }
      ]
    },
    {
      "cell_type": "code",
      "source": [
        "Nama = \"Arif\"\n",
        "Alamat = \"Purwokerto, Jawa Tengah\"\n",
        "Pekerj44n = \"Mahasiswa\"\n",
        "\n",
        "print(Nama)\n",
        "print(Alamat)\n",
        "print(Pekerj44n)"
      ],
      "metadata": {
        "colab": {
          "base_uri": "https://localhost:8080/"
        },
        "id": "nP7rYF1hTg_g",
        "outputId": "ec54b39f-1e7c-494f-d15b-e8d974e2b935"
      },
      "execution_count": null,
      "outputs": [
        {
          "output_type": "stream",
          "name": "stdout",
          "text": [
            "Arif\n",
            "Purwokerto, Jawa Tengah\n",
            "Mahasiswa\n"
          ]
        }
      ]
    },
    {
      "cell_type": "code",
      "source": [
        "Banyak_baris =\"\"\"\n",
        "saya\n",
        "berkuliah\n",
        "di\n",
        "Institut teknologi telkom purwokerto\n",
        "\"\"\"\n",
        "print(Banyak_baris)"
      ],
      "metadata": {
        "colab": {
          "base_uri": "https://localhost:8080/"
        },
        "id": "R76MWV1cUBvo",
        "outputId": "182d6658-02ae-4719-a3d7-6b11529275d4"
      },
      "execution_count": null,
      "outputs": [
        {
          "output_type": "stream",
          "name": "stdout",
          "text": [
            "\n",
            "saya\n",
            "berkuliah\n",
            "di\n",
            "Institut teknologi telkom purwokerto\n",
            "\n"
          ]
        }
      ]
    },
    {
      "cell_type": "code",
      "source": [
        "hari = \"jum'at\"\n",
        "print(hari)"
      ],
      "metadata": {
        "colab": {
          "base_uri": "https://localhost:8080/"
        },
        "id": "IldzJ6FDU35h",
        "outputId": "50977a6f-91d7-413c-b092-fe7798b1d02f"
      },
      "execution_count": null,
      "outputs": [
        {
          "output_type": "stream",
          "name": "stdout",
          "text": [
            "jum'at\n"
          ]
        }
      ]
    },
    {
      "cell_type": "code",
      "source": [
        "Nama =\"Nama = Khulika Malkan\"\n",
        "NIM = \"NIM = 2311110057\"\n",
        "Alamat = \"Alamat = Kuningan Jawa Barat\"\n",
        "tanggal_lahir = \"Tanggal Lahir = 25 September 2005\"\n",
        "Jenis_Kelamin = \"Jenis Kelamin = Perempuan\"\n",
        "Umur = \"Umur = 18 tahun\"\n",
        "no_Hp = \"No.Hp = 089660580926\"\n",
        "\n",
        "print(Nama)\n",
        "print(NIM)\n",
        "print(Alamat)\n",
        "print(tanggal_lahir)\n",
        "print(Jenis_Kelamin)\n",
        "print(Umur)\n",
        "print(no_Hp)"
      ],
      "metadata": {
        "colab": {
          "base_uri": "https://localhost:8080/"
        },
        "id": "fVj5bQIbu-CI",
        "outputId": "4bbbcf9c-6925-4512-e462-f0d7dc0a2446"
      },
      "execution_count": null,
      "outputs": [
        {
          "output_type": "stream",
          "name": "stdout",
          "text": [
            "Nama = Khulika Malkan\n",
            "NIM = 2311110057\n",
            "Alamat = Kuningan Jawa Barat\n",
            "Tanggal Lahir = 25 September 2005\n",
            "Jenis Kelamin = Perempuan\n",
            "Umur = 18 tahun\n",
            "No.Hp = 089660580926\n"
          ]
        }
      ]
    },
    {
      "cell_type": "code",
      "source": [
        "Banyak_baris =\"\"\"\n",
        "impian saya setelah lulus dari IT Telkom Purwokerto\n",
        "1. Menjadi orang yang bermanfaat bagi masyarakat\n",
        "2. Mempunyai pekerjaan yang bagus dan tetap\n",
        "3. Membuka usaha sendiri\n",
        "4. Melanjutkan S2\n",
        "5. Menikah\n",
        "\"\"\"\n",
        "print(Banyak_baris)"
      ],
      "metadata": {
        "colab": {
          "base_uri": "https://localhost:8080/"
        },
        "id": "_eNeeKwBvF82",
        "outputId": "093d723b-241b-4235-f233-8fb8c9ec22d3"
      },
      "execution_count": null,
      "outputs": [
        {
          "output_type": "stream",
          "name": "stdout",
          "text": [
            "\n",
            "impian saya setelah lulus dari IT Telkom Purwokerto\n",
            "1. Menjadi orang yang bermanfaat bagi masyarakat\n",
            "2. Mempunyai pekerjaan yang bagus dan tetap\n",
            "3. Membuka usaha sendiri\n",
            "4. Melanjutkan S2\n",
            "5. Menikah\n",
            "\n"
          ]
        }
      ]
    }
  ]
}