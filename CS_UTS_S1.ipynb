{
  "nbformat": 4,
  "nbformat_minor": 0,
  "metadata": {
    "colab": {
      "provenance": []
    },
    "kernelspec": {
      "name": "python3",
      "display_name": "Python 3"
    },
    "language_info": {
      "name": "python"
    }
  },
  "cells": [
    {
      "cell_type": "code",
      "execution_count": null,
      "metadata": {
        "colab": {
          "base_uri": "https://localhost:8080/"
        },
        "id": "KjBW8HLn50kT",
        "outputId": "6a8a06c6-ba27-4212-f058-1a0dde9a755b"
      },
      "outputs": [
        {
          "output_type": "stream",
          "name": "stdout",
          "text": [
            "[1, 2, 3, 4]\n"
          ]
        },
        {
          "output_type": "execute_result",
          "data": {
            "text/plain": [
              "list"
            ]
          },
          "metadata": {},
          "execution_count": 1
        }
      ],
      "source": [
        "#tipe data  & variabel\n",
        "print([1,2,3,4])\n",
        "type([1,2,3,4])"
      ]
    },
    {
      "cell_type": "code",
      "source": [
        "print(['satu','dua','tiga','empat'])\n",
        "type(['satu','dua','tiga','empat'])"
      ],
      "metadata": {
        "colab": {
          "base_uri": "https://localhost:8080/"
        },
        "id": "s9fqNSAP9v6Z",
        "outputId": "d90d47ce-83c5-426e-8dc2-93bd6445eef4"
      },
      "execution_count": null,
      "outputs": [
        {
          "output_type": "stream",
          "name": "stdout",
          "text": [
            "['satu', 'dua', 'tiga', 'empat']\n"
          ]
        },
        {
          "output_type": "execute_result",
          "data": {
            "text/plain": [
              "list"
            ]
          },
          "metadata": {},
          "execution_count": 2
        }
      ]
    },
    {
      "cell_type": "code",
      "source": [
        "print((1,2,3,4))\n",
        "type((1,2,3,4))"
      ],
      "metadata": {
        "colab": {
          "base_uri": "https://localhost:8080/"
        },
        "id": "nytdVQDk94IK",
        "outputId": "b4762edd-42b4-49eb-ab69-18ff8315c362"
      },
      "execution_count": null,
      "outputs": [
        {
          "output_type": "stream",
          "name": "stdout",
          "text": [
            "(1, 2, 3, 4)\n"
          ]
        },
        {
          "output_type": "execute_result",
          "data": {
            "text/plain": [
              "tuple"
            ]
          },
          "metadata": {},
          "execution_count": 3
        }
      ]
    },
    {
      "cell_type": "code",
      "source": [
        "Nama = \"Lika\"\n",
        "Alamat = \"Kuningan, Jawa Barat\"\n",
        "Pekerj44n = \"Mahasiswi\"\n",
        "\n",
        "print(Nama)\n",
        "print(Alamat)\n",
        "print(Pekerj44n)"
      ],
      "metadata": {
        "colab": {
          "base_uri": "https://localhost:8080/"
        },
        "id": "MJjeKFbj96f5",
        "outputId": "e9a8553d-4e9e-40d3-dd4a-99011ab656c4"
      },
      "execution_count": null,
      "outputs": [
        {
          "output_type": "stream",
          "name": "stdout",
          "text": [
            "Lika\n",
            "Kuningan, Jawa Barat\n",
            "Mahasiswi\n"
          ]
        }
      ]
    },
    {
      "cell_type": "code",
      "source": [
        "Banyak_baris =\"\"\"\n",
        "saya\n",
        "berkuliah\n",
        "di\n",
        "Institut teknologi telkom purwokerto\n",
        "\"\"\"\n",
        "print(Banyak_baris)"
      ],
      "metadata": {
        "colab": {
          "base_uri": "https://localhost:8080/"
        },
        "id": "ajG8UZv3-JV2",
        "outputId": "dbb0ad02-b412-4f32-b0ac-dba26d7cca52"
      },
      "execution_count": null,
      "outputs": [
        {
          "output_type": "stream",
          "name": "stdout",
          "text": [
            "\n",
            "saya\n",
            "berkuliah\n",
            "di\n",
            "Institut teknologi telkom purwokerto\n",
            "\n"
          ]
        }
      ]
    },
    {
      "cell_type": "code",
      "source": [
        "# input output\n",
        "print(\"cilimus\", \"kuningan\", \"Jawa barat\", sep =\"//\")\n",
        "print(\"30\", \"maret\", \"1950\", sep=\"--\")\n",
        "print(\"purwokerto\", \"banyumas\", \"jawa tengah\", end=\"**\")\n",
        "print(\"republik\", end=\"\\\\\")\n",
        "print(\"indonesia\")"
      ],
      "metadata": {
        "colab": {
          "base_uri": "https://localhost:8080/"
        },
        "id": "2IUdbeD7-LPR",
        "outputId": "108206b3-0080-437a-e2a4-1ac797cb7040"
      },
      "execution_count": null,
      "outputs": [
        {
          "output_type": "stream",
          "name": "stdout",
          "text": [
            "cilimus//kuningan//Jawa barat\n",
            "30--maret--1950\n",
            "purwokerto banyumas jawa tengah**republik\\indonesia\n"
          ]
        }
      ]
    },
    {
      "cell_type": "code",
      "source": [
        "hari = \"jum'at\"\n",
        "print(hari)"
      ],
      "metadata": {
        "colab": {
          "base_uri": "https://localhost:8080/"
        },
        "id": "5eMcrWUfAES6",
        "outputId": "ded68d6e-7890-4e41-9337-5f460eac00fa"
      },
      "execution_count": null,
      "outputs": [
        {
          "output_type": "stream",
          "name": "stdout",
          "text": [
            "jum'at\n"
          ]
        }
      ]
    },
    {
      "cell_type": "code",
      "source": [
        "alamat = input(\"masukan alamat domisili :\")\n",
        "print(\"alamat domisili saya adalah:\", alamat)"
      ],
      "metadata": {
        "colab": {
          "base_uri": "https://localhost:8080/"
        },
        "id": "7fM1vlFeAJZy",
        "outputId": "b3b14a2e-1b59-4ab3-b066-36a1008cadd7"
      },
      "execution_count": null,
      "outputs": [
        {
          "output_type": "stream",
          "name": "stdout",
          "text": [
            "masukan alamat domisili :kuningan\n",
            "alamat domisili saya adalah: kuningan\n"
          ]
        }
      ]
    },
    {
      "cell_type": "code",
      "source": [
        "angka1 =int(input(\"masukan angka pertama : \"))\n",
        "angka2 =int(input(\"masukan angka kedua : \"))\n",
        "hasil = angka1 * angka2\n",
        "print(\"hasil perkalian\", angka1, \"dan\", angka2, \"adalah\", hasil)"
      ],
      "metadata": {
        "colab": {
          "base_uri": "https://localhost:8080/"
        },
        "id": "CYI0DsMkAbqY",
        "outputId": "4f36baac-61ca-4943-c99d-7fbb7367f308"
      },
      "execution_count": null,
      "outputs": [
        {
          "output_type": "stream",
          "name": "stdout",
          "text": [
            "masukan angka pertama : 2\n",
            "masukan angka kedua : 4\n",
            "hasil perkalian 2 dan 4 adalah 8\n"
          ]
        }
      ]
    },
    {
      "cell_type": "code",
      "source": [
        "## rupiah ke dollar\n",
        "angka =int(input(\"masukan Rp : \"))\n",
        "hasil = int(angka/15000)\n",
        "print(\"hasil konversi : $\", hasil)"
      ],
      "metadata": {
        "colab": {
          "base_uri": "https://localhost:8080/"
        },
        "id": "neChilwTA73G",
        "outputId": "27e69272-36b6-4751-ff70-f3062543b65e"
      },
      "execution_count": null,
      "outputs": [
        {
          "output_type": "stream",
          "name": "stdout",
          "text": [
            "masukan Rp : 30000\n",
            "hasil konversi : $ 2\n"
          ]
        }
      ]
    },
    {
      "cell_type": "code",
      "source": [
        "angka =int(input(\"masukan $ : \"))\n",
        "hasil = int(angka*15000)\n",
        "print(\"hasil konversi : Rp.\", hasil)"
      ],
      "metadata": {
        "colab": {
          "base_uri": "https://localhost:8080/"
        },
        "id": "YC7N0V4QBL2o",
        "outputId": "3afab8ab-af02-43ca-9b28-fbefe4abdb4f"
      },
      "execution_count": null,
      "outputs": [
        {
          "output_type": "stream",
          "name": "stdout",
          "text": [
            "masukan $ : 5\n",
            "hasil konversi : Rp. 75000\n"
          ]
        }
      ]
    },
    {
      "cell_type": "code",
      "source": [
        "# operator\n",
        "print(\"lika, cantik!\")"
      ],
      "metadata": {
        "colab": {
          "base_uri": "https://localhost:8080/"
        },
        "id": "JlUzotFuBSjk",
        "outputId": "1f5c1427-bd8e-4975-f0ee-f8adecff45d7"
      },
      "execution_count": null,
      "outputs": [
        {
          "output_type": "stream",
          "name": "stdout",
          "text": [
            "lika, cantik!\n"
          ]
        }
      ]
    },
    {
      "cell_type": "code",
      "source": [
        "a = 5\n",
        "b = 12\n",
        "a * b"
      ],
      "metadata": {
        "colab": {
          "base_uri": "https://localhost:8080/"
        },
        "id": "WNhmDmbjBjb0",
        "outputId": "896428b7-2d58-4365-dcf7-96efa4340394"
      },
      "execution_count": null,
      "outputs": [
        {
          "output_type": "execute_result",
          "data": {
            "text/plain": [
              "60"
            ]
          },
          "metadata": {},
          "execution_count": 18
        }
      ]
    },
    {
      "cell_type": "code",
      "source": [
        "a = [1,2,3,4,5]\n",
        "5 in a\n",
        "9 not in a"
      ],
      "metadata": {
        "colab": {
          "base_uri": "https://localhost:8080/"
        },
        "id": "XkD7iGJzBop8",
        "outputId": "d8ed5d70-c6f2-47fc-dc16-01de55a2877a"
      },
      "execution_count": null,
      "outputs": [
        {
          "output_type": "execute_result",
          "data": {
            "text/plain": [
              "True"
            ]
          },
          "metadata": {},
          "execution_count": 19
        }
      ]
    },
    {
      "cell_type": "code",
      "source": [
        "x = True\n",
        "y = False\n",
        "print (x and y)\n",
        "print (x or y)\n",
        "print (not y)"
      ],
      "metadata": {
        "colab": {
          "base_uri": "https://localhost:8080/"
        },
        "id": "3R4rbcoHB3fs",
        "outputId": "44e7c9e5-9204-4ae8-f31e-f1f905096fda"
      },
      "execution_count": null,
      "outputs": [
        {
          "output_type": "stream",
          "name": "stdout",
          "text": [
            "False\n",
            "True\n",
            "True\n"
          ]
        }
      ]
    },
    {
      "cell_type": "code",
      "source": [
        "a = 4\n",
        "b =  3\n",
        "print (a|b)"
      ],
      "metadata": {
        "colab": {
          "base_uri": "https://localhost:8080/"
        },
        "id": "PNVL7ylbB46S",
        "outputId": "c86be29f-fbcf-4b0a-8a52-9ddea3a52928"
      },
      "execution_count": null,
      "outputs": [
        {
          "output_type": "stream",
          "name": "stdout",
          "text": [
            "7\n"
          ]
        }
      ]
    },
    {
      "cell_type": "code",
      "source": [
        "for x in range(5):\n",
        "  print(x)"
      ],
      "metadata": {
        "colab": {
          "base_uri": "https://localhost:8080/"
        },
        "id": "DCgdKIjdCN3Z",
        "outputId": "b7c91acb-f491-4f05-f7f3-aef1662fee01"
      },
      "execution_count": null,
      "outputs": [
        {
          "output_type": "stream",
          "name": "stdout",
          "text": [
            "0\n",
            "1\n",
            "2\n",
            "3\n",
            "4\n"
          ]
        }
      ]
    },
    {
      "cell_type": "code",
      "source": [
        "x = 3\n",
        "y = 2\n",
        "\n",
        "print(\"x + y :\", x+y)   #penjumlahan\n",
        "print(\"x - y :\", x-y)   #pengurangan\n",
        "print(\"x*y :\", x*y)     #perkalian\n",
        "print(\"x/y :\", x/y)     #pembagian(bil.pecahan)\n",
        "print(\"x//y :\", x//y)   #pembagian(bil.bulat, pembulatan selalu kebawah)\n",
        "print(\"x % y :\", x%y)   #modulus(sisa pembagian)\n",
        "print(\"x**y :\", x**y)   #perpangkatan"
      ],
      "metadata": {
        "colab": {
          "base_uri": "https://localhost:8080/"
        },
        "id": "lS2HhfJ0Ct_k",
        "outputId": "bf3deee5-78cb-4302-ece7-1b084304b236"
      },
      "execution_count": null,
      "outputs": [
        {
          "output_type": "stream",
          "name": "stdout",
          "text": [
            "x + y : 5\n",
            "x - y : 1\n",
            "x*y : 6\n",
            "x/y : 1.5\n",
            "x//y : 1\n",
            "x % y : 1\n",
            "x**y : 9\n"
          ]
        }
      ]
    },
    {
      "cell_type": "code",
      "source": [
        "x = 5\n",
        "y = 3\n",
        "\n",
        "print(\"x>y :\", x>y)\n",
        "print(\"x<y :\", x<y)\n",
        "print(\"x==y :\", x==y)\n",
        "print(\"x != y :\", x!=y)\n",
        "print(\"x >= y :\", x>=y)\n",
        "print(\"x <= y :\", x<=y)"
      ],
      "metadata": {
        "colab": {
          "base_uri": "https://localhost:8080/"
        },
        "id": "re5gDFEnMSds",
        "outputId": "ec65d14b-8980-483c-c0c6-3cc42dba618c"
      },
      "execution_count": null,
      "outputs": [
        {
          "output_type": "stream",
          "name": "stdout",
          "text": [
            "x>y : True\n",
            "x<y : False\n",
            "x==y : False\n",
            "x != y : True\n",
            "x >= y : True\n",
            "x <= y : False\n"
          ]
        }
      ]
    },
    {
      "cell_type": "code",
      "source": [
        "a= 8\n",
        "a += 2\n",
        "a*=10\n",
        "a /= 4\n",
        "a **= 2\n",
        "print(\"nilai a adalah :\", a)"
      ],
      "metadata": {
        "colab": {
          "base_uri": "https://localhost:8080/"
        },
        "id": "ANiJvt4hM5J3",
        "outputId": "5b57c57c-2ee1-424a-f8dc-6f19246f8872"
      },
      "execution_count": null,
      "outputs": [
        {
          "output_type": "stream",
          "name": "stdout",
          "text": [
            "nilai a adalah : 625.0\n"
          ]
        }
      ]
    },
    {
      "cell_type": "code",
      "source": [
        "x = True\n",
        "y = False\n",
        "\n",
        "#logika And.\n",
        "z = x and y\n",
        "print(\"True and False :\", z)\n",
        "#logika Or.\n",
        "z = x or y\n",
        "print(\"True or False :\", z)\n",
        "#logika Not.\n",
        "z = not x\n",
        "print(\"Not True :\", z)"
      ],
      "metadata": {
        "colab": {
          "base_uri": "https://localhost:8080/"
        },
        "id": "c0He-aG-M_d4",
        "outputId": "d117e1ec-f183-4aec-c329-be4c3a668906"
      },
      "execution_count": null,
      "outputs": [
        {
          "output_type": "stream",
          "name": "stdout",
          "text": [
            "True and False : False\n",
            "True or False : True\n",
            "Not True : False\n"
          ]
        }
      ]
    },
    {
      "cell_type": "code",
      "source": [
        "## Operator in.\n",
        "x = [1,3,6]\n",
        "y = 3\n",
        "print(\"y in x :\", y in x)\n",
        "\n",
        "#operator not in.\n",
        "x = [1,3,6]\n",
        "y = 3\n",
        "print(\"y not in :\", y not in x)"
      ],
      "metadata": {
        "colab": {
          "base_uri": "https://localhost:8080/"
        },
        "id": "oi-yqY9uNBkP",
        "outputId": "fea0bb9e-e7a9-4765-80ed-b72c7f7c094b"
      },
      "execution_count": null,
      "outputs": [
        {
          "output_type": "stream",
          "name": "stdout",
          "text": [
            "y in x : True\n",
            "y not in : False\n"
          ]
        }
      ]
    },
    {
      "cell_type": "code",
      "source": [
        "##operator is.\n",
        "x = 5\n",
        "y = x\n",
        "print(\"y adalah x :\", y is x)\n",
        "\n",
        "#operator is not.\n",
        "a = 10\n",
        "b = 5\n",
        "print(\"b is not a :\", b is not a)"
      ],
      "metadata": {
        "colab": {
          "base_uri": "https://localhost:8080/"
        },
        "id": "oozdopAzNIhg",
        "outputId": "9d5a101a-818e-49d0-8444-110516bdc365"
      },
      "execution_count": null,
      "outputs": [
        {
          "output_type": "stream",
          "name": "stdout",
          "text": [
            "y adalah x : True\n",
            "b is not a : True\n"
          ]
        }
      ]
    },
    {
      "cell_type": "code",
      "source": [
        "tahun = int(input('Masukkan tahun anda : '))\n",
        "tahun_kabisat = (tahun % 400 == 0) or (tahun % 4 == 0 and tahun % 100 != 0)\n",
        "print ('Tahun yang anda masukkan', tahun_kabisat)"
      ],
      "metadata": {
        "colab": {
          "base_uri": "https://localhost:8080/"
        },
        "id": "7gUOyigZNONL",
        "outputId": "1c0d6a70-4f60-493b-d73d-6d6f07321aa2"
      },
      "execution_count": null,
      "outputs": [
        {
          "output_type": "stream",
          "name": "stdout",
          "text": [
            "Masukkan tahun anda : 2000\n",
            "Tahun yang anda masukkan True\n"
          ]
        }
      ]
    },
    {
      "cell_type": "code",
      "source": [
        "# selection\n",
        "nilai = 71\n",
        "if nilai >= 90:\n",
        "  print(\"grade A\")\n",
        "else :\n",
        "    print(\"grade B\")"
      ],
      "metadata": {
        "colab": {
          "base_uri": "https://localhost:8080/"
        },
        "id": "0FUL2XnyNj3q",
        "outputId": "70a64253-9ae3-43c3-bcae-05a7fafcbdc5"
      },
      "execution_count": null,
      "outputs": [
        {
          "output_type": "stream",
          "name": "stdout",
          "text": [
            "grade B\n"
          ]
        }
      ]
    },
    {
      "cell_type": "code",
      "source": [
        "nilai = 51\n",
        "if nilai >= 90:\n",
        "  print(\"grade A\")\n",
        "elif nilai >= 70:\n",
        "  print(\"grade B\")\n",
        "elif nilai >= 60:\n",
        "  print(\"grade C\")\n",
        "else:\n",
        "  print(\"grade D\")"
      ],
      "metadata": {
        "colab": {
          "base_uri": "https://localhost:8080/"
        },
        "id": "6ptjb2iDN-Vh",
        "outputId": "7fbca890-68a6-40f9-8ed4-d0cb114bb138"
      },
      "execution_count": null,
      "outputs": [
        {
          "output_type": "stream",
          "name": "stdout",
          "text": [
            "grade D\n"
          ]
        }
      ]
    },
    {
      "cell_type": "code",
      "source": [
        "umur = int(input(\"masukan umur anda: \"))\n",
        "if umur >= 11:\n",
        "  if umur > 18:\n",
        "    print(\"tiket tersedia\")\n",
        "    if umur <=  20 or umur >=60:\n",
        "      print(\"harga tiket 35.000\")\n",
        "    else:\n",
        "      print(\"harga tiket 50.000\")\n",
        "  else :\n",
        "    print(\"anda masih bocil\")\n",
        "else:\n",
        "    print(\"tiket tidak tersedia\")\n"
      ],
      "metadata": {
        "colab": {
          "base_uri": "https://localhost:8080/"
        },
        "id": "WcijBwQcOFn-",
        "outputId": "f9ca684c-f508-4ac0-e191-223f5e738063"
      },
      "execution_count": null,
      "outputs": [
        {
          "output_type": "stream",
          "name": "stdout",
          "text": [
            "masukan umur anda: 18\n",
            "anda masih bocil\n"
          ]
        }
      ]
    },
    {
      "cell_type": "code",
      "source": [
        "bilangan= int(input(\"masukan bilangan :\"))\n",
        "\n",
        "if bilangan < 0:\n",
        "  print(\"bilangan negatif\")\n",
        "elif bilangan == 0:\n",
        "  print(\"bilangan nol\")\n",
        "else:\n",
        "  print(\"bilangan positif\")"
      ],
      "metadata": {
        "colab": {
          "base_uri": "https://localhost:8080/"
        },
        "id": "CJhKz8ePOXKv",
        "outputId": "56d524dd-e3f3-49c1-84e7-badf1b533410"
      },
      "execution_count": null,
      "outputs": [
        {
          "output_type": "stream",
          "name": "stdout",
          "text": [
            "masukan bilangan :54\n",
            "bilangan positif\n"
          ]
        }
      ]
    },
    {
      "cell_type": "code",
      "source": [
        "x = int(input(\"masukan nilai x : \"))\n",
        "y = int(input(\"masukan nilai y : \"))\n",
        "\n",
        "if x > y :\n",
        "  print(f\"bilangan x={x} terbesar\")\n",
        "else :\n",
        "  print(f\"bilangan y={y} terbesar\")"
      ],
      "metadata": {
        "colab": {
          "base_uri": "https://localhost:8080/"
        },
        "id": "M6YcaATkOc13",
        "outputId": "fc1fe885-3457-4096-cb32-09bdb437ac53"
      },
      "execution_count": null,
      "outputs": [
        {
          "output_type": "stream",
          "name": "stdout",
          "text": [
            "masukan nilai x : 5\n",
            "masukan nilai y : 8\n",
            "bilangan y=8 terbesar\n"
          ]
        }
      ]
    },
    {
      "cell_type": "code",
      "source": [
        "nilai = int(input(\"masukan nilai anda: \"))\n",
        "if nilai >= 90:\n",
        "  print(\"grade A\")\n",
        "elif nilai >= 70:\n",
        "  print(\"grade B\")\n",
        "elif nilai >= 60:\n",
        "  print(\"grade C\")\n",
        "elif nilai >= 50:\n",
        "  print(\"grade D\")\n",
        "elif nilai < 50 :\n",
        "  print(\"grade E\")\n",
        "else:\n",
        "    print(\"grade D\")"
      ],
      "metadata": {
        "colab": {
          "base_uri": "https://localhost:8080/"
        },
        "id": "r3IdCjPUOx93",
        "outputId": "7715b78c-5e1b-4eff-e55b-d254b2aa4806"
      },
      "execution_count": null,
      "outputs": [
        {
          "output_type": "stream",
          "name": "stdout",
          "text": [
            "masukan nilai anda: 67\n",
            "grade C\n"
          ]
        }
      ]
    },
    {
      "cell_type": "code",
      "source": [
        "umur = int(input(\"masukan umur anda: \"))\n",
        "if umur <= 5:\n",
        "  print(\"balita\")\n",
        "elif umur <=12 :\n",
        "  print(\"anak anak\")\n",
        "elif umur <= 18:\n",
        "  print(\"remaja\")\n",
        "else:\n",
        "    print(\"dewasa\")"
      ],
      "metadata": {
        "colab": {
          "base_uri": "https://localhost:8080/"
        },
        "id": "7qzXC8yBPZMj",
        "outputId": "0988f5e1-0cc4-4c0c-9106-8223517055a0"
      },
      "execution_count": null,
      "outputs": [
        {
          "output_type": "stream",
          "name": "stdout",
          "text": [
            "masukan umur anda: 18\n",
            "remaja\n"
          ]
        }
      ]
    },
    {
      "cell_type": "code",
      "source": [
        "# repetion\n",
        "i = 0\n",
        "while i < 3:\n",
        "  print(\"meow\")\n",
        "  i += 1"
      ],
      "metadata": {
        "colab": {
          "base_uri": "https://localhost:8080/"
        },
        "id": "XzoDndAoPvd0",
        "outputId": "e6b4ed76-e19f-4d07-d7a6-3cf1fb962f68"
      },
      "execution_count": null,
      "outputs": [
        {
          "output_type": "stream",
          "name": "stdout",
          "text": [
            "meow\n",
            "meow\n",
            "meow\n"
          ]
        }
      ]
    },
    {
      "cell_type": "code",
      "source": [
        "#for list\n",
        "for i in [0,1,2]:\n",
        "  print(\"meow\")"
      ],
      "metadata": {
        "colab": {
          "base_uri": "https://localhost:8080/"
        },
        "id": "l2o1HKf6QRQN",
        "outputId": "6ea61f37-2c1f-46b0-a04b-50c08fd7a120"
      },
      "execution_count": null,
      "outputs": [
        {
          "output_type": "stream",
          "name": "stdout",
          "text": [
            "meow\n",
            "meow\n",
            "meow\n"
          ]
        }
      ]
    },
    {
      "cell_type": "code",
      "source": [
        "#for range\n",
        "for i in range(3):\n",
        "  print(\"meow\")"
      ],
      "metadata": {
        "colab": {
          "base_uri": "https://localhost:8080/"
        },
        "id": "-z7AVbhQQVxW",
        "outputId": "d892643b-2324-4a8e-e600-d45994c3f8b0"
      },
      "execution_count": null,
      "outputs": [
        {
          "output_type": "stream",
          "name": "stdout",
          "text": [
            "meow\n",
            "meow\n",
            "meow\n"
          ]
        }
      ]
    },
    {
      "cell_type": "code",
      "source": [
        "tinggi_persegi = int(input(\"i : \"))\n",
        "lebar_persegi = int(input(\"j : \"))\n",
        "\n",
        "print()\n",
        "\n",
        "for i in range (tinggi_persegi):\n",
        "  for j in range (lebar_persegi):\n",
        "    print(\" *\", end=\" \")\n",
        "\n",
        "  print()"
      ],
      "metadata": {
        "colab": {
          "base_uri": "https://localhost:8080/"
        },
        "id": "UrD0SGP2QaN6",
        "outputId": "9ec52d5e-e01c-4cef-9ba2-3814a548ec47"
      },
      "execution_count": null,
      "outputs": [
        {
          "output_type": "stream",
          "name": "stdout",
          "text": [
            "i : 3\n",
            "j : 9\n",
            "\n",
            " *  *  *  *  *  *  *  *  * \n",
            " *  *  *  *  *  *  *  *  * \n",
            " *  *  *  *  *  *  *  *  * \n"
          ]
        }
      ]
    },
    {
      "cell_type": "code",
      "source": [
        "tinggi_segitiga = int(input(\"input tinggi segitiga : \"))\n",
        "print()\n",
        "\n",
        "for i in range (tinggi_segitiga):\n",
        "  for j in range (i+1):\n",
        "    print(\" *\", end=\" \")\n",
        "\n",
        "  print()"
      ],
      "metadata": {
        "colab": {
          "base_uri": "https://localhost:8080/"
        },
        "id": "yp3yiqL3QmU5",
        "outputId": "499c4458-c4d3-4d46-d5cf-aaaea4742ad5"
      },
      "execution_count": null,
      "outputs": [
        {
          "output_type": "stream",
          "name": "stdout",
          "text": [
            "input tinggi segitiga : 6\n",
            "\n",
            " * \n",
            " *  * \n",
            " *  *  * \n",
            " *  *  *  * \n",
            " *  *  *  *  * \n",
            " *  *  *  *  *  * \n"
          ]
        }
      ]
    },
    {
      "cell_type": "code",
      "source": [
        "tinggi_segitiga = int(input(\"input tinggi segitiga : \"))\n",
        "print()\n",
        "\n",
        "for i in range (tinggi_segitiga):\n",
        "  for j in range (1, i+1):\n",
        "    print(j, \" \", end = \"\", sep= \"\")\n",
        "\n",
        "  print()"
      ],
      "metadata": {
        "colab": {
          "base_uri": "https://localhost:8080/"
        },
        "id": "e8V37zGkQt9c",
        "outputId": "89df0b47-3717-4167-d212-7bcb90b7b681"
      },
      "execution_count": null,
      "outputs": [
        {
          "output_type": "stream",
          "name": "stdout",
          "text": [
            "input tinggi segitiga : 8\n",
            "\n",
            "\n",
            "1 \n",
            "1 2 \n",
            "1 2 3 \n",
            "1 2 3 4 \n",
            "1 2 3 4 5 \n",
            "1 2 3 4 5 6 \n",
            "1 2 3 4 5 6 7 \n"
          ]
        }
      ]
    },
    {
      "cell_type": "code",
      "source": [
        "tinggi_segitiga = int(input(\"input tinggi segitiga : \"))\n",
        "print()\n",
        "\n",
        "for i in range (tinggi_segitiga):\n",
        "  for j in range (i):\n",
        "    print(1, \"\", end = \"\")\n",
        "\n",
        "  print()"
      ],
      "metadata": {
        "colab": {
          "base_uri": "https://localhost:8080/"
        },
        "id": "Vg9Da5xFQ2lx",
        "outputId": "1613fa00-9209-40bf-d83a-8ae659d0a2d6"
      },
      "execution_count": null,
      "outputs": [
        {
          "output_type": "stream",
          "name": "stdout",
          "text": [
            "input tinggi segitiga : 5\n",
            "\n",
            "\n",
            "1 \n",
            "1 1 \n",
            "1 1 1 \n",
            "1 1 1 1 \n"
          ]
        }
      ]
    },
    {
      "cell_type": "code",
      "source": [
        "ulang = 10\n",
        "\n",
        "for i in range (ulang):\n",
        "  print(\"perlangan ke-\", i)"
      ],
      "metadata": {
        "colab": {
          "base_uri": "https://localhost:8080/"
        },
        "id": "OxYqg8oMRANO",
        "outputId": "76c86863-aa15-4f77-8f35-5169211f2c5b"
      },
      "execution_count": null,
      "outputs": [
        {
          "output_type": "stream",
          "name": "stdout",
          "text": [
            "perlangan ke- 0\n",
            "perlangan ke- 1\n",
            "perlangan ke- 2\n",
            "perlangan ke- 3\n",
            "perlangan ke- 4\n",
            "perlangan ke- 5\n",
            "perlangan ke- 6\n",
            "perlangan ke- 7\n",
            "perlangan ke- 8\n",
            "perlangan ke- 9\n"
          ]
        }
      ]
    },
    {
      "cell_type": "code",
      "source": [
        "for i in range(1,10):\n",
        "  print(i, end= ' ')\n",
        "print()\n",
        "\n",
        "for i in range(10):\n",
        "  print(i, end= ' ')\n",
        "print()\n",
        "\n",
        "for i in range(1,15,3):\n",
        "  print(i, end= ' ')\n",
        "print()"
      ],
      "metadata": {
        "colab": {
          "base_uri": "https://localhost:8080/"
        },
        "id": "XvNh7r94REyM",
        "outputId": "f7b49195-7a35-4c05-bb17-611cb734d554"
      },
      "execution_count": null,
      "outputs": [
        {
          "output_type": "stream",
          "name": "stdout",
          "text": [
            "1 2 3 4 5 6 7 8 9 \n",
            "0 1 2 3 4 5 6 7 8 9 \n",
            "1 4 7 10 13 \n"
          ]
        }
      ]
    },
    {
      "cell_type": "code",
      "source": [
        "while True:\n",
        "  reply = input('enter text, [type \"stop\" to quit]:')\n",
        "  if reply == 'stop':\n",
        "    break\n",
        "  print(reply.lower())"
      ],
      "metadata": {
        "colab": {
          "base_uri": "https://localhost:8080/"
        },
        "id": "PhNMl8tPRMzZ",
        "outputId": "48efa1aa-78ff-49e2-e784-4ee679e7fddb"
      },
      "execution_count": null,
      "outputs": [
        {
          "name": "stdout",
          "output_type": "stream",
          "text": [
            "enter text, [type \"stop\" to quit]:hello\n",
            "hello\n",
            "enter text, [type \"stop\" to quit]:HELLO\n",
            "hello\n",
            "enter text, [type \"stop\" to quit]:STOP\n",
            "stop\n",
            "enter text, [type \"stop\" to quit]:stop\n"
          ]
        }
      ]
    },
    {
      "cell_type": "code",
      "source": [
        "x = 0\n",
        "while True:\n",
        "  nama = input(\"Masukan Nama: \")\n",
        "  print(\"Nama anda adalah: \", nama)\n",
        "  x+=1\n",
        "  if x == 5:\n",
        "    break\n",
        "  print(reply)k"
      ],
      "metadata": {
        "colab": {
          "base_uri": "https://localhost:8080/"
        },
        "id": "V1IsTFxpRaIj",
        "outputId": "ca8cf772-b030-4899-904e-037274f202f7"
      },
      "execution_count": null,
      "outputs": [
        {
          "output_type": "stream",
          "name": "stdout",
          "text": [
            "Masukan Nama: lik\n",
            "Nama anda adalah:  lik\n",
            "stop\n",
            "Masukan Nama: lika\n",
            "Nama anda adalah:  lika\n",
            "stop\n",
            "Masukan Nama: malika\n",
            "Nama anda adalah:  malika\n",
            "stop\n",
            "Masukan Nama: malkan\n",
            "Nama anda adalah:  malkan\n",
            "stop\n",
            "Masukan Nama: huli\n",
            "Nama anda adalah:  huli\n"
          ]
        }
      ]
    },
    {
      "cell_type": "code",
      "source": [
        "for i in range(10):\n",
        "  print(i)\n",
        "  if i == 5:\n",
        "    break"
      ],
      "metadata": {
        "colab": {
          "base_uri": "https://localhost:8080/"
        },
        "id": "aK9blAsVRkpb",
        "outputId": "79c2b83a-8a73-43f5-dc89-5a7128e79363"
      },
      "execution_count": null,
      "outputs": [
        {
          "output_type": "stream",
          "name": "stdout",
          "text": [
            "0\n",
            "1\n",
            "2\n",
            "3\n",
            "4\n",
            "5\n"
          ]
        }
      ]
    },
    {
      "cell_type": "code",
      "source": [
        "i = 0\n",
        "while (i<8):\n",
        "  i+=1\n",
        "  if(i==8):\n",
        "    continue\n",
        "  print(i, end=' ')\n",
        "print()"
      ],
      "metadata": {
        "colab": {
          "base_uri": "https://localhost:8080/"
        },
        "id": "g8gM9FKNRsh0",
        "outputId": "2ce548c0-ed57-40e1-b9f2-991dcf823e6e"
      },
      "execution_count": null,
      "outputs": [
        {
          "output_type": "stream",
          "name": "stdout",
          "text": [
            "1 2 3 4 5 6 7 \n"
          ]
        }
      ]
    },
    {
      "cell_type": "code",
      "source": [
        "data = [1,2,3,4,5,6,7,8,9,10]\n",
        "for i in data:\n",
        "  if i % 2 == 0:\n",
        "    print(i, \"adalah bilangan genap\")\n",
        "  else:\n",
        "    print(i, \"adalah bilangan ganjil\")"
      ],
      "metadata": {
        "colab": {
          "base_uri": "https://localhost:8080/"
        },
        "id": "I4OAG1b1RyGD",
        "outputId": "7b3ab362-2283-4ff7-a2af-16bbf31a70bd"
      },
      "execution_count": null,
      "outputs": [
        {
          "output_type": "stream",
          "name": "stdout",
          "text": [
            "1 adalah bilangan ganjil\n",
            "2 adalah bilangan genap\n",
            "3 adalah bilangan ganjil\n",
            "4 adalah bilangan genap\n",
            "5 adalah bilangan ganjil\n",
            "6 adalah bilangan genap\n",
            "7 adalah bilangan ganjil\n",
            "8 adalah bilangan genap\n",
            "9 adalah bilangan ganjil\n",
            "10 adalah bilangan genap\n"
          ]
        }
      ]
    },
    {
      "cell_type": "code",
      "source": [
        "data = [1,2, 'tiga', 4, 'lima', 'enam', 7, 8.2, 9.3, 'sepuluh']\n",
        "batas = len(data)\n",
        "\n",
        "for i in range(batas):\n",
        "  print(\"data indek ke\", i, \"adalah\", data[i])"
      ],
      "metadata": {
        "colab": {
          "base_uri": "https://localhost:8080/"
        },
        "id": "2IH2qPaER5Jh",
        "outputId": "9c526cf4-7d90-4340-df4d-db3227dc5927"
      },
      "execution_count": null,
      "outputs": [
        {
          "output_type": "stream",
          "name": "stdout",
          "text": [
            "data indek ke 0 adalah 1\n",
            "data indek ke 1 adalah 2\n",
            "data indek ke 2 adalah tiga\n",
            "data indek ke 3 adalah 4\n",
            "data indek ke 4 adalah lima\n",
            "data indek ke 5 adalah enam\n",
            "data indek ke 6 adalah 7\n",
            "data indek ke 7 adalah 8.2\n",
            "data indek ke 8 adalah 9.3\n",
            "data indek ke 9 adalah sepuluh\n"
          ]
        }
      ]
    },
    {
      "cell_type": "code",
      "source": [
        "nilai = 54\n",
        "while True:\n",
        "  n = int(input(\"masukan nilai: \"))\n",
        "  if n == nilai:\n",
        "    print(\"inputan benar\")\n",
        "    break\n",
        "  print(\"input salah\")"
      ],
      "metadata": {
        "colab": {
          "base_uri": "https://localhost:8080/"
        },
        "id": "0I74qBuoR-2G",
        "outputId": "fa7d6159-aa9a-4cf0-af40-b0e17837a1be"
      },
      "execution_count": null,
      "outputs": [
        {
          "output_type": "stream",
          "name": "stdout",
          "text": [
            "masukan nilai: 54\n",
            "inputan benar\n"
          ]
        }
      ]
    },
    {
      "cell_type": "code",
      "source": [
        "numbers = [7, 8, 9, 10, 11, 12, 13, 6, 5, 4, 3, 2, 1]\n",
        "total = 0\n",
        "\n",
        "for number in numbers:\n",
        "  total += number\n",
        "print(\"hasil penjumlahan semua nilai adalah:\", total)"
      ],
      "metadata": {
        "colab": {
          "base_uri": "https://localhost:8080/"
        },
        "id": "-5uhAQ0dSFci",
        "outputId": "d0a85dbf-5b0f-46a1-8100-1b6a5d04f49e"
      },
      "execution_count": null,
      "outputs": [
        {
          "output_type": "stream",
          "name": "stdout",
          "text": [
            "hasil penjumlahan semua nilai adalah: 91\n"
          ]
        }
      ]
    },
    {
      "cell_type": "code",
      "source": [
        "string = \"\"\n",
        "\n",
        "x = int(input(\"Masukan angka: \"))\n",
        "bar = x\n",
        "while bar >= 0:\n",
        "    kol = bar\n",
        "    while kol > 0:\n",
        "        string = string +\"   \"\n",
        "        kol = kol - 1\n",
        "    kiri = 1\n",
        "    while kiri < (x - (bar-1)):\n",
        "        string = string + \" * \"\n",
        "        kiri = kiri + 1\n",
        "    kanan = 1\n",
        "    while kanan < kiri -1:\n",
        "        string = string + \" * \"\n",
        "        kanan = kanan + 1\n",
        "\n",
        "    string = string + \"\\n\\n\"\n",
        "    bar = bar - 1\n",
        "\n",
        "print(string)"
      ],
      "metadata": {
        "colab": {
          "base_uri": "https://localhost:8080/"
        },
        "id": "XW26kHCgSUTU",
        "outputId": "e9057446-b186-4f6f-b340-6c1492ab770a"
      },
      "execution_count": null,
      "outputs": [
        {
          "output_type": "stream",
          "name": "stdout",
          "text": [
            "Masukan angka: 10\n",
            "                              \n",
            "\n",
            "                            * \n",
            "\n",
            "                         *  *  * \n",
            "\n",
            "                      *  *  *  *  * \n",
            "\n",
            "                   *  *  *  *  *  *  * \n",
            "\n",
            "                *  *  *  *  *  *  *  *  * \n",
            "\n",
            "             *  *  *  *  *  *  *  *  *  *  * \n",
            "\n",
            "          *  *  *  *  *  *  *  *  *  *  *  *  * \n",
            "\n",
            "       *  *  *  *  *  *  *  *  *  *  *  *  *  *  * \n",
            "\n",
            "    *  *  *  *  *  *  *  *  *  *  *  *  *  *  *  *  * \n",
            "\n",
            " *  *  *  *  *  *  *  *  *  *  *  *  *  *  *  *  *  *  * \n",
            "\n",
            "\n"
          ]
        }
      ]
    },
    {
      "cell_type": "code",
      "source": [
        "while True:\n",
        "    print(\"Program Kalkulator Perhitungan Luas Bidang\")\n",
        "    print(\"==========================================\")\n",
        "    print(\"1. Luas Persegi Panjang\")\n",
        "    print(\"2. Luas Segitiga\")\n",
        "    print(\"3. Luas Lingkaran\")\n",
        "    print(\"4. Keluar\")\n",
        "    pilihan = int(input(\"Silahkan pilih perhitungan (1/2/3/4): \"))\n",
        "    if pilihan == 1:\n",
        "        panjang = float(input(\"Masukan panjang persegi panjang: \"))\n",
        "        lebar = float(input(\"Masukan lebar persegi panjang: \"))\n",
        "        luas_persegi_panjang = panjang * lebar\n",
        "        print(\"Luas persegi panjang adalah: \", luas_persegi_panjang)\n",
        "    elif pilihan == 2:\n",
        "        alas = float(input(\"Masukan alas segitiga: \"))\n",
        "        tinggi = float(input(\"Masukan tinggi segitiga: \"))\n",
        "        luas_segitiga = 0.5 * alas * tinggi\n",
        "        print(\"Luas segitiga adalah: \", luas_segitiga)\n",
        "    elif pilihan == 3:\n",
        "        jarijari = float(input(\"Masukan jari-jari lingkaran: \"))\n",
        "        luas_lingkaran = 3.14 * jarijari * jarijari\n",
        "        print(\"Luas lingkaran adalah: \", luas_lingkaran)\n",
        "    elif pilihan == 4:\n",
        "        print(\"Selesai, terima kasih guys!\")\n",
        "        break\n",
        "    else:\n",
        "        print(\"Pilihan tidak valid\")"
      ],
      "metadata": {
        "colab": {
          "base_uri": "https://localhost:8080/"
        },
        "id": "m0Ilfh3USgzL",
        "outputId": "7814b23d-8af1-46ad-d566-c8828362b062"
      },
      "execution_count": null,
      "outputs": [
        {
          "output_type": "stream",
          "name": "stdout",
          "text": [
            "Program Kalkulator Perhitungan Luas Bidang\n",
            "==========================================\n",
            "1. Luas Persegi Panjang\n",
            "2. Luas Segitiga\n",
            "3. Luas Lingkaran\n",
            "4. Keluar\n",
            "Silahkan pilih perhitungan (1/2/3/4): 4\n",
            "Selesai, terima kasih guys!\n"
          ]
        }
      ]
    }
  ]
}