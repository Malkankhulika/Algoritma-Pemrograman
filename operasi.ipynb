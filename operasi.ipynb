{
  "nbformat": 4,
  "nbformat_minor": 0,
  "metadata": {
    "colab": {
      "provenance": []
    },
    "kernelspec": {
      "name": "python3",
      "display_name": "Python 3"
    },
    "language_info": {
      "name": "python"
    }
  },
  "cells": [
    {
      "cell_type": "code",
      "execution_count": null,
      "metadata": {
        "colab": {
          "base_uri": "https://localhost:8080/"
        },
        "id": "dahs3OOdSWTZ",
        "outputId": "77bfc18a-3000-4359-8e96-c985d66214ac"
      },
      "outputs": [
        {
          "output_type": "stream",
          "name": "stdout",
          "text": [
            "x + y : 5\n",
            "x - y : 1\n",
            "x*y : 6\n",
            "x/y : 1.5\n",
            "x//y : 1\n",
            "x % y : 1\n",
            "x**y : 9\n"
          ]
        }
      ],
      "source": [
        "x = 3\n",
        "y = 2\n",
        "\n",
        "print(\"x + y :\", x+y)   #penjumlahan\n",
        "print(\"x - y :\", x-y)   #pengurangan\n",
        "print(\"x*y :\", x*y)     #perkalian\n",
        "print(\"x/y :\", x/y)     #pembagian(bil.pecahan)\n",
        "print(\"x//y :\", x//y)   #pembagian(bil.bulat, pembulatan selalu kebawah)\n",
        "print(\"x % y :\", x%y)   #modulus(sisa pembagian)\n",
        "print(\"x**y :\", x**y)   #perpangkatan"
      ]
    },
    {
      "cell_type": "code",
      "source": [
        "x = 5\n",
        "y = 3\n",
        "\n",
        "print(\"x>y :\", x>y)\n",
        "print(\"x<y :\", x<y)\n",
        "print(\"x==y :\", x==y)\n",
        "print(\"x != y :\", x!=y)\n",
        "print(\"x >= y :\", x>=y)\n",
        "print(\"x <= y :\", x<=y)"
      ],
      "metadata": {
        "colab": {
          "base_uri": "https://localhost:8080/"
        },
        "id": "me_xM451VrKB",
        "outputId": "f28ce295-668c-48c1-e61f-0555c1dc82c1"
      },
      "execution_count": null,
      "outputs": [
        {
          "output_type": "stream",
          "name": "stdout",
          "text": [
            "x>y : True\n",
            "x<y : False\n",
            "x==y : False\n",
            "x != y : True\n",
            "x >= y : True\n",
            "x <= y : False\n"
          ]
        }
      ]
    },
    {
      "cell_type": "code",
      "source": [
        "#menginputkan nilai 8 di a\n",
        "a= 8\n",
        "a += 2\n",
        "a*=10\n",
        "a /= 4\n",
        "a **= 2\n",
        "print(\"nilai a adalah :\", a)"
      ],
      "metadata": {
        "id": "eqKtBIARWnNc",
        "colab": {
          "base_uri": "https://localhost:8080/"
        },
        "outputId": "2e1d49a3-f613-4ff2-e6ed-ce0957f69e98"
      },
      "execution_count": null,
      "outputs": [
        {
          "output_type": "stream",
          "name": "stdout",
          "text": [
            "nilai a adalah : 625.0\n"
          ]
        }
      ]
    },
    {
      "cell_type": "code",
      "source": [
        "#menambahan dengan 2\n",
        "a += 2\n",
        "print(a)"
      ],
      "metadata": {
        "colab": {
          "base_uri": "https://localhost:8080/"
        },
        "id": "MRBicYn-XwFF",
        "outputId": "ae5b8062-f110-477d-cc57-8a6f2ca79901"
      },
      "execution_count": null,
      "outputs": [
        {
          "output_type": "stream",
          "name": "stdout",
          "text": [
            "10\n"
          ]
        }
      ]
    },
    {
      "cell_type": "code",
      "source": [
        "#mengurangi dengan 3\n",
        "a -= 3\n",
        "print(a)"
      ],
      "metadata": {
        "colab": {
          "base_uri": "https://localhost:8080/"
        },
        "id": "kCOBICdWYE9t",
        "outputId": "52ff435b-7919-4fb9-cf4c-58cc6620b894"
      },
      "execution_count": null,
      "outputs": [
        {
          "output_type": "stream",
          "name": "stdout",
          "text": [
            "7\n"
          ]
        }
      ]
    },
    {
      "cell_type": "code",
      "source": [
        "#kali 10\n",
        "a*=10\n",
        "print(a)"
      ],
      "metadata": {
        "colab": {
          "base_uri": "https://localhost:8080/"
        },
        "id": "6P5_Tk4YYmiI",
        "outputId": "e814ea52-cc77-4f12-8de9-a679fed9f7ac"
      },
      "execution_count": null,
      "outputs": [
        {
          "output_type": "stream",
          "name": "stdout",
          "text": [
            "70\n"
          ]
        }
      ]
    },
    {
      "cell_type": "code",
      "source": [
        "#membagi dengan 4\n",
        "a /= 4\n",
        "print(a)"
      ],
      "metadata": {
        "colab": {
          "base_uri": "https://localhost:8080/"
        },
        "id": "5FmM_kF3YtxU",
        "outputId": "db930697-608f-4dde-a730-b97bc4e4f8d0"
      },
      "execution_count": null,
      "outputs": [
        {
          "output_type": "stream",
          "name": "stdout",
          "text": [
            "17.5\n"
          ]
        }
      ]
    },
    {
      "cell_type": "code",
      "source": [
        "#mepangkatkan 2\n",
        "a **= 2\n",
        "print(a)"
      ],
      "metadata": {
        "colab": {
          "base_uri": "https://localhost:8080/"
        },
        "id": "-GRZ8PvtYxM9",
        "outputId": "6ccad1f5-e815-4149-d71d-bbceeeda873c"
      },
      "execution_count": null,
      "outputs": [
        {
          "output_type": "stream",
          "name": "stdout",
          "text": [
            "306.25\n"
          ]
        }
      ]
    },
    {
      "cell_type": "code",
      "source": [
        "#berapakah nilai a sekarang?\n",
        "print(\"nilai a adalah :\", a)"
      ],
      "metadata": {
        "colab": {
          "base_uri": "https://localhost:8080/"
        },
        "id": "RqoOA-OkY13T",
        "outputId": "ac1130fc-8a0e-4bb3-996c-0ba1b25158c0"
      },
      "execution_count": null,
      "outputs": [
        {
          "output_type": "stream",
          "name": "stdout",
          "text": [
            "nilai a adalah : 306.25\n"
          ]
        }
      ]
    },
    {
      "cell_type": "code",
      "source": [
        "x = True\n",
        "y = False\n",
        "\n",
        "#logika And.\n",
        "z = x and y\n",
        "print(\"True and False :\", z)\n",
        "#logika Or.\n",
        "z = x or y\n",
        "print(\"True or False :\", z)\n",
        "#logika Not.\n",
        "z = not x\n",
        "print(\"Not True :\", z)"
      ],
      "metadata": {
        "colab": {
          "base_uri": "https://localhost:8080/"
        },
        "id": "EcFwcsb3Y-e5",
        "outputId": "47edec47-a7b9-40cc-8507-05ed9b0d8efa"
      },
      "execution_count": null,
      "outputs": [
        {
          "output_type": "stream",
          "name": "stdout",
          "text": [
            "True and False : False\n",
            "True or False : True\n",
            "Not True : False\n"
          ]
        }
      ]
    },
    {
      "cell_type": "code",
      "source": [
        "#Operator in.\n",
        "x = [1,3,6]\n",
        "y = 3\n",
        "print(\"y in x :\", y in x)\n",
        "\n",
        "#operator not in.\n",
        "x = [1,3,6]\n",
        "y = 3\n",
        "print(\"y not in :\", y not in x)"
      ],
      "metadata": {
        "colab": {
          "base_uri": "https://localhost:8080/"
        },
        "id": "b28ykxkpZexH",
        "outputId": "31f1fd4f-9bbe-44c2-a6bc-581b44ade22b"
      },
      "execution_count": null,
      "outputs": [
        {
          "output_type": "stream",
          "name": "stdout",
          "text": [
            "y in x : True\n",
            "y not in : False\n"
          ]
        }
      ]
    },
    {
      "cell_type": "code",
      "source": [
        "#operator is.\n",
        "x = 5\n",
        "y = x\n",
        "print(\"y adalah x :\", y is x)\n",
        "\n",
        "#operator is not.\n",
        "a = 10\n",
        "b = 5\n",
        "print(\"b is not a :\", b is not a)"
      ],
      "metadata": {
        "colab": {
          "base_uri": "https://localhost:8080/"
        },
        "id": "HyG63dS1ad8F",
        "outputId": "59a99724-068e-4a6c-df30-122a08874287"
      },
      "execution_count": null,
      "outputs": [
        {
          "output_type": "stream",
          "name": "stdout",
          "text": [
            "y adalah x : True\n",
            "b is not a : True\n"
          ]
        }
      ]
    },
    {
      "cell_type": "code",
      "source": [
        "a = 8\n",
        "a = a+3\n",
        "#a += 3"
      ],
      "metadata": {
        "id": "qQ7FxlElcZ5h"
      },
      "execution_count": null,
      "outputs": []
    },
    {
      "cell_type": "code",
      "source": [
        "#tugas praktikum algoritma pemograman\n",
        "Khulika Malkan (2311110057)\n",
        "\n",
        "a = 9\n",
        "b = 5\n",
        "\n",
        "print(\"a == b :\", a==b)\n",
        "print(\"a<b :\", a<b)\n",
        "print(\"a>b :\", a>b)\n",
        "print(\"a <= b :\", a<=b)\n",
        "print(\"a >= b :\", a>=b)\n",
        "print(\"a != b :\", a!=b)\n"
      ],
      "metadata": {
        "colab": {
          "base_uri": "https://localhost:8080/"
        },
        "id": "oNnqC_AibViv",
        "outputId": "894dddcb-d80c-4886-c651-cdf24f03ff18"
      },
      "execution_count": null,
      "outputs": [
        {
          "output_type": "stream",
          "name": "stdout",
          "text": [
            "a == b : False\n",
            "a<b : False\n",
            "a>b : True\n",
            "a <= b : False\n",
            "a >= b : True\n",
            "a != b : True\n"
          ]
        }
      ]
    },
    {
      "cell_type": "code",
      "source": [
        "#tugas praktikum algoritma pemograman\n",
        "Khulika Malkan (2311110057)\n",
        "\n",
        "a = 5\n",
        "b = 6\n",
        "\n",
        "print(\"a + b :\", a+b)\n",
        "print(\"b - a :\", b-a)\n",
        "print(\"a*b :\", a*b)\n",
        "print(\"a/b :\", a/b)"
      ],
      "metadata": {
        "colab": {
          "base_uri": "https://localhost:8080/"
        },
        "id": "CpagXqDscAvh",
        "outputId": "0cdd0e70-46cf-4b36-e357-226f8353a609"
      },
      "execution_count": null,
      "outputs": [
        {
          "output_type": "stream",
          "name": "stdout",
          "text": [
            "a + b : 11\n",
            "b - a : 1\n",
            "a*b : 30\n",
            "a/b : 0.8333333333333334\n"
          ]
        }
      ]
    },
    {
      "cell_type": "code",
      "source": [
        "#latihan\n",
        "tahun = 2100\n",
        "\n",
        "if (tahun % 400 == 0) or (tahun % 400 == 0 and tahun % 100 != 0) :\n",
        "  print(\"tahun ini adalah tahun kabisat\")\n",
        "else :\n",
        "  print(\"tahun ini bukan tahun kabisat\")"
      ],
      "metadata": {
        "colab": {
          "base_uri": "https://localhost:8080/"
        },
        "id": "WHiIZk9YctDJ",
        "outputId": "cc2a2f72-00b6-417e-b512-90d0412fff28"
      },
      "execution_count": null,
      "outputs": [
        {
          "output_type": "stream",
          "name": "stdout",
          "text": [
            "tahun ini bukan tahun kabisat\n"
          ]
        }
      ]
    },
    {
      "cell_type": "code",
      "source": [
        "tahun = int(input('Masukkan tahun anda : '))\n",
        "tahunkabisat = (tahun % 400 == 0) or (tahun % 4 == 0 and tahun % 100 != 0)\n",
        "print ('Tahun yang anda masukkan', tahunkabisat)"
      ],
      "metadata": {
        "colab": {
          "base_uri": "https://localhost:8080/"
        },
        "id": "GZ8hslGuelbw",
        "outputId": "6a46356f-28f6-4146-ea7c-8595179601e1"
      },
      "execution_count": null,
      "outputs": [
        {
          "output_type": "stream",
          "name": "stdout",
          "text": [
            "Masukkan tahun anda : 2100\n",
            "Tahun yang anda masukkan False\n"
          ]
        }
      ]
    },
    {
      "cell_type": "code",
      "source": [
        "tahun = int(input('Masukkan tahun anda : '))\n",
        "tahun_kabisat = (tahun % 400 == 0) or (tahun % 4 == 0 and tahun % 100 != 0)\n",
        "print ('Tahun yang anda masukkan', tahun_kabisat)"
      ],
      "metadata": {
        "colab": {
          "base_uri": "https://localhost:8080/"
        },
        "id": "QWy4Hpo2h95X",
        "outputId": "38fd06ad-c8fb-4f09-ff25-0134185bf2e1"
      },
      "execution_count": null,
      "outputs": [
        {
          "output_type": "stream",
          "name": "stdout",
          "text": [
            "Masukkan tahun anda : 20023\n",
            "Tahun yang anda masukkan False\n"
          ]
        }
      ]
    }
  ]
}