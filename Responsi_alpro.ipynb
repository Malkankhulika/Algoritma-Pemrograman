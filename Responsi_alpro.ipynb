{
  "nbformat": 4,
  "nbformat_minor": 0,
  "metadata": {
    "colab": {
      "provenance": []
    },
    "kernelspec": {
      "name": "python3",
      "display_name": "Python 3"
    },
    "language_info": {
      "name": "python"
    }
  },
  "cells": [
    {
      "cell_type": "markdown",
      "source": [
        "nama : Khulika Malkan\n",
        "NIM  : 2311110057\n",
        "Kelas: S1SD04-B"
      ],
      "metadata": {
        "id": "d958vbcA-_io"
      }
    },
    {
      "cell_type": "markdown",
      "source": [
        "nomor **1**"
      ],
      "metadata": {
        "id": "dKM8urTvFlI9"
      }
    },
    {
      "cell_type": "code",
      "source": [
        "angka = 0\n",
        "list = []\n",
        "\n",
        "for j in range (1, 36):\n",
        "    if j % 3 == 0 or j % 5 == 0:\n",
        "      list.append(str(j))\n",
        "      angka += j\n",
        "\n",
        "print(\"Angka Kelipatan:\", list)\n",
        "print(\"Total: \", angka)"
      ],
      "metadata": {
        "colab": {
          "base_uri": "https://localhost:8080/"
        },
        "id": "2lXXJuu-_dvy",
        "outputId": "2c4aacf9-454a-45c5-acf7-f9653771562c"
      },
      "execution_count": null,
      "outputs": [
        {
          "output_type": "stream",
          "name": "stdout",
          "text": [
            "Angka Kelipatan: ['3', '5', '6', '9', '10', '12', '15', '18', '20', '21', '24', '25', '27', '30', '33', '35']\n",
            "Total:  293\n"
          ]
        }
      ]
    },
    {
      "cell_type": "markdown",
      "source": [
        "nomor **2**"
      ],
      "metadata": {
        "id": "VTyCevo6_lVX"
      }
    },
    {
      "cell_type": "code",
      "source": [
        "n = 5\n",
        "deret = \" \"\n",
        "jumlah = 0\n",
        "\n",
        "for i in range(1, n+1):\n",
        "    angka = int(str(n) * i)\n",
        "    deret += str(angka) + \" + \"\n",
        "    jumlah += angka\n",
        "\n",
        "deret = deret.rstrip(\" + \")\n",
        "print(deret)\n",
        "print(\"Sum of above series is:\", jumlah)"
      ],
      "metadata": {
        "colab": {
          "base_uri": "https://localhost:8080/"
        },
        "id": "Bl8vFIET_96N",
        "outputId": "047cf897-f072-4f19-fae9-969ff3f1af23"
      },
      "execution_count": null,
      "outputs": [
        {
          "output_type": "stream",
          "name": "stdout",
          "text": [
            " 5 + 55 + 555 + 5555 + 55555\n",
            "Sum of above series is: 61725\n"
          ]
        }
      ]
    },
    {
      "cell_type": "markdown",
      "source": [
        "nomor **3**"
      ],
      "metadata": {
        "id": "if2acPD2ACXA"
      }
    },
    {
      "cell_type": "code",
      "source": [
        "nilai = [58, 13, 107, -30, -7]\n",
        "\n",
        "def terbesar(a, n):\n",
        "    if n == 1:\n",
        "        return a[0]\n",
        "    return max(a[n-1], terbesar(a, n-1))\n",
        "\n",
        "print(\"Nilai terbesar:\",terbesar(nilai, len(nilai)))"
      ],
      "metadata": {
        "colab": {
          "base_uri": "https://localhost:8080/"
        },
        "id": "UqWy_A8XzAqf",
        "outputId": "428b8f28-cbc4-4a6a-d97d-b38fabdad316"
      },
      "execution_count": null,
      "outputs": [
        {
          "output_type": "stream",
          "name": "stdout",
          "text": [
            "Nilai terbesar: 107\n"
          ]
        }
      ]
    },
    {
      "cell_type": "markdown",
      "source": [
        "nomor **4**"
      ],
      "metadata": {
        "id": "tP9HObfHAQig"
      }
    },
    {
      "cell_type": "code",
      "source": [
        "# kondisi 1\n",
        "baju = int(input(\"Masukkan Jumlah Baju yang dibeli: \"))\n",
        "celana = int(input(\"Masukkan Jumlah Celana yang dibeli: \"))\n",
        "total = float(baju*120000 + celana*90000)\n",
        "\n",
        "if baju > 4 and celana >= 3:\n",
        "  print(\"Anda mendapatkan diskon 20%\")\n",
        "  print(\"Total sebelum diskon\", total)\n",
        "  diskon = total - (total * 0.2)\n",
        "  print(\"Total yang harus dibayarkan adalah\", diskon)\n",
        "elif baju == 3 and celana == 2:\n",
        "  print(\"Anda mendapatkan diskon 10%\")\n",
        "  print(\"Total sebelum diskon\", total)\n",
        "  diskon = total - (total * 0.1)\n",
        "  print(\"Total yang harus dibayarkan adalah\", diskon)\n",
        "else:\n",
        "   print(\"Anda tidak mendapatkan diskon\")\n",
        "   print(\"Total sebelum diskon\", total)\n",
        "   print(\"Total yang harus dibayarkan adalah\", total)"
      ],
      "metadata": {
        "colab": {
          "base_uri": "https://localhost:8080/"
        },
        "id": "EnzsjDNSAWVN",
        "outputId": "447247e7-cd43-47c7-c8c7-8684547b9cac"
      },
      "execution_count": null,
      "outputs": [
        {
          "output_type": "stream",
          "name": "stdout",
          "text": [
            "Masukkan Jumlah Baju yang dibeli: 6\n",
            "Masukkan Jumlah Celana yang dibeli: 6\n",
            "Anda mendapatkan diskon 20%\n",
            "Total sebelum diskon 1260000.0\n",
            "Total yang harus dibayarkan adalah 1008000.0\n"
          ]
        }
      ]
    },
    {
      "cell_type": "code",
      "source": [
        "# kondisi 2\n",
        "baju = int(input(\"Masukkan Jumlah Baju yang dibeli: \"))\n",
        "celana = int(input(\"Masukkan Jumlah Celana yang dibeli: \"))\n",
        "total = float(baju*120000 + celana*90000)\n",
        "\n",
        "if baju > 4 and celana >= 3:\n",
        "  print(\"Anda mendapatkan diskon 20%\")\n",
        "  print(\"Total sebelum diskon\", total)\n",
        "  diskon = total - (total * 0.2)\n",
        "  print(\"Total yang harus dibayarkan adalah\", diskon)\n",
        "elif baju == 3 and celana == 2:\n",
        "  print(\"Anda mendapatkan diskon 10%\")\n",
        "  print(\"Total sebelum diskon\", total)\n",
        "  diskon = total - (total * 0.1)\n",
        "  print(\"Total yang harus dibayarkan adalah\", diskon)\n",
        "else:\n",
        "   print(\"Anda tidak mendapatkan diskon\")\n",
        "   print(\"Total sebelum diskon\", total)\n",
        "   print(\"Total yang harus dibayarkan adalah\", total)"
      ],
      "metadata": {
        "colab": {
          "base_uri": "https://localhost:8080/"
        },
        "id": "Z4NDwROMB5xE",
        "outputId": "4b302cf7-b4ea-4a22-8818-35ddc36c8094"
      },
      "execution_count": null,
      "outputs": [
        {
          "output_type": "stream",
          "name": "stdout",
          "text": [
            "Masukkan Jumlah Baju yang dibeli: 3\n",
            "Masukkan Jumlah Celana yang dibeli: 2\n",
            "Anda mendapatkan diskon 10%\n",
            "Total sebelum diskon 540000.0\n",
            "Total yang harus dibayarkan adalah 486000.0\n"
          ]
        }
      ]
    },
    {
      "cell_type": "code",
      "source": [
        "# kondisi 3\n",
        "baju = int(input(\"Masukkan Jumlah Baju yang dibeli: \"))\n",
        "celana = int(input(\"Masukkan Jumlah Celana yang dibeli: \"))\n",
        "total = float(baju*120000 + celana*90000)\n",
        "\n",
        "if baju > 4 and celana >= 3:\n",
        "  print(\"Anda mendapatkan diskon 20%\")\n",
        "  print(\"Total sebelum diskon\", total)\n",
        "  diskon = total - (total * 0.2)\n",
        "  print(\"Total yang harus dibayarkan adalah\", diskon)\n",
        "elif baju == 3 and celana == 2:\n",
        "  print(\"Anda mendapatkan diskon 10%\")\n",
        "  print(\"Total sebelum diskon\", total)\n",
        "  diskon = total - (total * 0.1)\n",
        "  print(\"Total yang harus dibayarkan adalah\", diskon)\n",
        "else:\n",
        "   print(\"Anda tidak mendapatkan diskon\")\n",
        "   print(\"Total sebelum diskon\", total)\n",
        "   print(\"Total yang harus dibayarkan adalah\", total)"
      ],
      "metadata": {
        "colab": {
          "base_uri": "https://localhost:8080/"
        },
        "id": "0fxXVK2iCHt-",
        "outputId": "f56e9063-5ca4-442b-b756-1652c18d3c79"
      },
      "execution_count": null,
      "outputs": [
        {
          "output_type": "stream",
          "name": "stdout",
          "text": [
            "Masukkan Jumlah Baju yang dibeli: 1\n",
            "Masukkan Jumlah Celana yang dibeli: 1\n",
            "Anda tidak mendapatkan diskon\n",
            "Total sebelum diskon 210000.0\n",
            "Total yang harus dibayarkan adalah 210000.0\n"
          ]
        }
      ]
    }
  ]
}